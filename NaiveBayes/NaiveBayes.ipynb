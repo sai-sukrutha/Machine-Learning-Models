{
 "cells": [
  {
   "cell_type": "markdown",
   "metadata": {},
   "source": [
    "# Import Statements"
   ]
  },
  {
   "cell_type": "code",
   "execution_count": 1,
   "metadata": {},
   "outputs": [],
   "source": [
    "import pandas as pd\n",
    "import numpy as np\n",
    "import matplotlib.pyplot as plt\n",
    "import random\n",
    "import math\n",
    "import sys"
   ]
  },
  {
   "cell_type": "markdown",
   "metadata": {},
   "source": [
    "# Train and Validation Split"
   ]
  },
  {
   "cell_type": "code",
   "execution_count": 2,
   "metadata": {},
   "outputs": [],
   "source": [
    "#Pass the percentage of data you need for test like 20 % \n",
    "def train_split(df,test_per):\n",
    "    indices=df.index.tolist()\n",
    "    test_size=round(len(df)*(test_per/100))\n",
    "    random.seed(0)\n",
    "    test_indices=random.sample(population=indices,k=test_size)\n",
    "    valid_df=df.loc[test_indices]\n",
    "    train_df=df.drop(test_indices)\n",
    "    return train_df,valid_df"
   ]
  },
  {
   "cell_type": "markdown",
   "metadata": {},
   "source": [
    "# Naive Bayes"
   ]
  },
  {
   "cell_type": "code",
   "execution_count": 3,
   "metadata": {},
   "outputs": [],
   "source": [
    "def divide_by_label(train_df,label_col):\n",
    "    div_labels={}\n",
    "    length=len(train_df)\n",
    "    for i in range(0,length):\n",
    "        out=train_df.iloc[i][label_col]\n",
    "        if(out not in div_labels):\n",
    "            div_labels[out]=[]\n",
    "        div_labels[out].append(train_df.iloc[i])\n",
    "    return div_labels"
   ]
  },
  {
   "cell_type": "code",
   "execution_count": 4,
   "metadata": {},
   "outputs": [],
   "source": [
    "def mean(list_nos):\n",
    "    #print(list_nos)\n",
    "    m=sum(list_nos)/len(list_nos)\n",
    "    return m"
   ]
  },
  {
   "cell_type": "code",
   "execution_count": 5,
   "metadata": {},
   "outputs": [],
   "source": [
    "def stand_deviation(list_nos):\n",
    "    m=mean(list_nos)\n",
    "    variance=0\n",
    "    for no in list_nos:\n",
    "        variance+=pow((no-m),2)\n",
    "    variance/=len(list_nos)\n",
    "    std_dev=math.sqrt(variance)\n",
    "    return std_dev"
   ]
  },
  {
   "cell_type": "code",
   "execution_count": 6,
   "metadata": {},
   "outputs": [],
   "source": [
    "def summarize(div_labels):\n",
    "    summary={}\n",
    "    for label,lis in div_labels.items():\n",
    "        summary[label]=[(mean(attribute), stand_deviation(attribute)) for attribute in zip(*lis)]\n",
    "    return summary  "
   ]
  },
  {
   "cell_type": "code",
   "execution_count": 7,
   "metadata": {},
   "outputs": [],
   "source": [
    "def cal_prob(x, mean, std_dev):\n",
    "    if(std_dev == 0.0):\n",
    "        prob=0\n",
    "    else:\n",
    "        exp_part= math.exp(-(math.pow(x-mean,2)/(2*math.pow(std_dev,2))))\n",
    "        prob=1/(math.sqrt(2*math.pi) * std_dev)*exp_part\n",
    "    return prob"
   ]
  },
  {
   "cell_type": "code",
   "execution_count": 8,
   "metadata": {},
   "outputs": [],
   "source": [
    "def cal_prob_class(summary,data):\n",
    "    probabilities = {}\n",
    "    for class_val, class_summary in summary.items():\n",
    "        probabilities[class_val] = 1\n",
    "        for i in range(len(class_summary)):\n",
    "            mean, std_dev = class_summary[i]\n",
    "            #print(\"Mean-\",mean,\"stddev-\",std_dev)\n",
    "            x = data[i]\n",
    "            prob=cal_prob(x, mean, std_dev)\n",
    "            if(prob != 0.0):\n",
    "                probabilities[class_val] *= prob\n",
    "            #print(probabilities)\n",
    "    return probabilities"
   ]
  },
  {
   "cell_type": "markdown",
   "metadata": {},
   "source": [
    "# Prediction"
   ]
  },
  {
   "cell_type": "code",
   "execution_count": 9,
   "metadata": {},
   "outputs": [],
   "source": [
    "def predict(summary,data):\n",
    "    probabilities = cal_prob_class(summary, data)\n",
    "    #print(\"probs-\",probabilities)\n",
    "    ans_label,ans_prob = None, -1\n",
    "    for class_val, probability in probabilities.items():\n",
    "        if ans_label is None or probability > ans_prob:\n",
    "            ans_prob = probability\n",
    "            ans_label = class_val\n",
    "    return ans_label  "
   ]
  },
  {
   "cell_type": "code",
   "execution_count": 10,
   "metadata": {},
   "outputs": [],
   "source": [
    "def predict_all_accuracy(summary,valid_df,label_col):\n",
    "    actual_list=[]\n",
    "    predicted_list=[]\n",
    "    \n",
    "    correct=0\n",
    "    for i in range(len(valid_df)):\n",
    "        actual = valid_df.iloc[i][label_col]\n",
    "        actual_list.append(actual)\n",
    "        predicted = predict(summary, valid_df.iloc[i])\n",
    "        predicted_list.append(predicted)\n",
    "        #print(\"Actual-\",actual,\"Predicted-\",predicted)\n",
    "        if( actual == predicted ):\n",
    "            correct+=1\n",
    "        accuracy=(correct/len(valid_df))*100.0\n",
    "    plot_graph(actual_list,predicted_list,\"Graph\")\n",
    "    return accuracy"
   ]
  },
  {
   "cell_type": "code",
   "execution_count": 11,
   "metadata": {},
   "outputs": [],
   "source": [
    "def plot_graph(actual_list,predicted_list,title):\n",
    "    x_labels=[]\n",
    "    for i in range(len(actual_list)):      #oddnumbers\n",
    "        x_labels.append(i)\n",
    "        \n",
    "    area=np.pi\n",
    "    plt.xlabel(\"Customers\")\n",
    "    plt.ylabel(\"Loan Accepted/Not\")\n",
    "    plt.title(title)\n",
    "\n",
    "    plt.scatter(x_labels, predicted_list, s=area, c='blue', alpha=0.5)\n",
    "    plt.scatter(x_labels, actual_list, s=area, c='red', alpha=0.5)\n",
    "\n",
    "    plt.show()\n",
    "    return"
   ]
  },
  {
   "cell_type": "markdown",
   "metadata": {},
   "source": [
    "# Main"
   ]
  },
  {
   "cell_type": "code",
   "execution_count": 12,
   "metadata": {},
   "outputs": [],
   "source": [
    "def main():\n",
    "    csv_file=\"LoanDataset/data.csv\"\n",
    "    label_col=9\n",
    "    \n",
    "    df=pd.read_csv(csv_file , header=None)\n",
    "    train_df,valid_df=train_split(df,20)\n",
    "\n",
    "    div_labels=divide_by_label(train_df,label_col)\n",
    "    #print(div_labels)\n",
    "    \n",
    "    summary=summarize(div_labels)\n",
    "    #print(summary)\n",
    "    \n",
    "    accuracy=predict_all_accuracy(summary,valid_df,label_col)\n",
    "    print(\"Accuracy-\",accuracy)\n",
    "    "
   ]
  },
  {
   "cell_type": "code",
   "execution_count": 13,
   "metadata": {},
   "outputs": [
    {
     "data": {
      "image/png": "[encoded data removed]",
      "text/plain": [
       "<Figure size 432x288 with 1 Axes>"
      ]
     },
     "metadata": {
      "needs_background": "light"
     },
     "output_type": "display_data"
    },
    {
     "name": "stdout",
     "output_type": "stream",
     "text": [
      "Accuracy- 86.8888888888889\n"
     ]
    }
   ],
   "source": [
    "if __name__ == \"__main__\":\n",
    "    main()"
   ]
  }
 ],
 "metadata": {
  "kernelspec": {
   "display_name": "Python 3",
   "language": "python",
   "name": "python3"
  },
  "language_info": {
   "codemirror_mode": {
    "name": "ipython",
    "version": 3
   },
   "file_extension": ".py",
   "mimetype": "text/x-python",
   "name": "python",
   "nbconvert_exporter": "python",
   "pygments_lexer": "ipython3",
   "version": "3.7.5"
  }
 },
 "nbformat": 4,
 "nbformat_minor": 2
}
