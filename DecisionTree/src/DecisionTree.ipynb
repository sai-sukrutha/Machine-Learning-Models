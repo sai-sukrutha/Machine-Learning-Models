{
 "cells": [
  {
   "cell_type": "code",
   "execution_count": 1,
   "metadata": {},
   "outputs": [],
   "source": [
    "import pandas as pd\n",
    "import numpy as np"
   ]
  },
  {
   "cell_type": "markdown",
   "metadata": {},
   "source": [
    "# Entropy Calculation"
   ]
  },
  {
   "cell_type": "code",
   "execution_count": 2,
   "metadata": {},
   "outputs": [],
   "source": [
    "def cal_entropy(df,label):\n",
    "    if(df[label].nunique()== 1):\n",
    "        return 0\n",
    "    else:\n",
    "        E=0\n",
    "        n_rows,_=df.shape\n",
    "        classes=df[label].unique()\n",
    "        for cla in classes:\n",
    "            p=df[label].value_counts()[cla]\n",
    "            p/=n_rows\n",
    "            E+=-(p*np.log2(p))\n",
    "        return E"
   ]
  },
  {
   "cell_type": "markdown",
   "metadata": {},
   "source": [
    "# Information Gain Calculation"
   ]
  },
  {
   "cell_type": "code",
   "execution_count": 3,
   "metadata": {},
   "outputs": [],
   "source": [
    "def cal_gain(df,label,E_S):\n",
    "    rows,_=df.shape\n",
    "    print(rows)\n",
    "    column_names=df.columns.tolist()\n",
    "    print(column_names)\n",
    "    length=len(column_names)\n",
    "    gains={}\n",
    "    for i in range(0,length):\n",
    "        attribute=column_names[i]\n",
    "        print(attribute)\n",
    "        if(attribute==label):\n",
    "            continue\n",
    "        classes=df[attribute].unique()\n",
    "        count=df[attribute].value_counts()\n",
    "        info_gain=0\n",
    "        for cla in classes:\n",
    "            print(cla)\n",
    "            c=count[cla]\n",
    "            temp_df=df[column_names][df[attribute] == cla]\n",
    "            E=cal_entropy(temp_df,label)\n",
    "            print(E)\n",
    "            info_gain+=((c/rows)*E)\n",
    "        gains[attribute]=E_S-info_gain\n",
    "    return gains"
   ]
  },
  {
   "cell_type": "code",
   "execution_count": 4,
   "metadata": {},
   "outputs": [],
   "source": [
    "def cal_gain_all(df,attribute,label):\n",
    "    classes=df[attribute].unique()\n",
    "    column_names=df.columns.tolist()\n",
    "    temp_column_names=column_names\n",
    "    temp_column_names.remove(attribute)\n",
    "    print(classes)\n",
    "    gains={}\n",
    "    list_all={}\n",
    "    for cla in classes:\n",
    "        temp_df=df[temp_column_names][df[attribute] == cla]\n",
    "        print(temp_df)\n",
    "        E_S=cal_entropy(temp_df,label)\n",
    "        print(E_S)\n",
    "        if(E_S == 0):\n",
    "            gains=0\n",
    "        else:\n",
    "            gains=cal_gain(temp_df,label,E_S)\n",
    "        list_all[cla]=gains\n",
    "    return list_all"
   ]
  },
  {
   "cell_type": "markdown",
   "metadata": {},
   "source": [
    "# Helper Functions"
   ]
  },
  {
   "cell_type": "code",
   "execution_count": 5,
   "metadata": {},
   "outputs": [],
   "source": [
    "def maxval(d):  \n",
    "     v=list(d.values())\n",
    "     k=list(d.keys())\n",
    "     return k[v.index(max(v))]\n",
    "    \n",
    "    \n",
    "def is_pure(df,label):\n",
    "    if(df[label].nunique()== 1):\n",
    "        return True\n",
    "    else:\n",
    "        return False\n",
    "    "
   ]
  },
  {
   "cell_type": "code",
   "execution_count": 6,
   "metadata": {},
   "outputs": [],
   "source": [
    "def build_tree(df,label,root):\n",
    "    E_S=cal_entropy(df,label)\n",
    "    print (E_S)\n",
    "\n",
    "    #Root\n",
    "    gains=cal_gain(df,label,E_S)\n",
    "    print(gains)\n",
    "    chosen=maxval(gains)\n",
    "    print(chosen)\n",
    "\n",
    "    #for all\n",
    "    list_all=cal_gain_all(df,chosen,label)\n",
    "    print(list_all)\n",
    "    \n",
    "    return root"
   ]
  },
  {
   "cell_type": "markdown",
   "metadata": {},
   "source": [
    "For train.csv\n",
    "Output=left(1,0)\n",
    "Columns:\n",
    "satisfaction_level,last_evaluation,number_project,average_montly_hours,time_spend_company,Work_accident,left,\tpromotion_last_5years,sales,salary\n",
    "\n",
    "Categorical Columns:\n",
    "salary,sales,promotion_last_5years,Work_accident"
   ]
  },
  {
   "cell_type": "code",
   "execution_count": 7,
   "metadata": {},
   "outputs": [],
   "source": [
    "def main():\n",
    "    csv_file=\"../input/sample.csv\"\n",
    "    label='play'\n",
    "    \n",
    "    df=pd.read_csv(csv_file)\n",
    "    \n",
    "    root=None\n",
    "    root=build_tree(df,label,root)\n",
    "   \n",
    "    return"
   ]
  },
  {
   "cell_type": "code",
   "execution_count": 8,
   "metadata": {},
   "outputs": [
    {
     "name": "stdout",
     "output_type": "stream",
     "text": [
      "0.9402859586706309\n",
      "14\n",
      "['temperature', 'outlook', 'humidity', 'windy', 'play']\n",
      "temperature\n",
      "hot\n",
      "1.0\n",
      "cool\n",
      "0.8112781244591328\n",
      "mild\n",
      "0.9182958340544896\n",
      "outlook\n",
      "sunny\n",
      "0.9709505944546686\n",
      "overcast\n",
      "0\n",
      "rain\n",
      "0.9709505944546686\n",
      "humidity\n",
      "high\n",
      "0.9852281360342515\n",
      "normal\n",
      "0.5916727785823275\n",
      "windy\n",
      "False\n",
      "0.8112781244591328\n",
      "True\n",
      "1.0\n",
      "play\n",
      "{'temperature': 0.029222565658954647, 'outlook': 0.2467498197744391, 'humidity': 0.15183550136234136, 'windy': 0.04812703040826927}\n",
      "outlook\n",
      "['sunny' 'overcast' 'rain']\n",
      "  temperature humidity  windy play\n",
      "0         hot     high  False   no\n",
      "1         hot     high   True   no\n",
      "5        mild     high  False   no\n",
      "6        cool   normal  False  yes\n",
      "8        mild   normal   True  yes\n",
      "0.9709505944546686\n",
      "5\n",
      "['temperature', 'humidity', 'windy', 'play']\n",
      "temperature\n",
      "hot\n",
      "0\n",
      "mild\n",
      "1.0\n",
      "cool\n",
      "0\n",
      "humidity\n",
      "high\n",
      "0\n",
      "normal\n",
      "0\n",
      "windy\n",
      "False\n",
      "0.9182958340544896\n",
      "True\n",
      "1.0\n",
      "play\n",
      "   temperature humidity  windy play\n",
      "2          hot     high  False  yes\n",
      "4         cool   normal   True  yes\n",
      "9         mild     high   True  yes\n",
      "10         hot   normal  False  yes\n",
      "0\n",
      "   temperature humidity  windy play\n",
      "3         cool   normal  False  yes\n",
      "7         mild   normal  False  yes\n",
      "11        mild     high   True   no\n",
      "12        cool   normal   True   no\n",
      "13        mild     high  False  yes\n",
      "0.9709505944546686\n",
      "5\n",
      "['temperature', 'humidity', 'windy', 'play']\n",
      "temperature\n",
      "cool\n",
      "1.0\n",
      "mild\n",
      "0.9182958340544896\n",
      "humidity\n",
      "normal\n",
      "0.9182958340544896\n",
      "high\n",
      "1.0\n",
      "windy\n",
      "False\n",
      "0\n",
      "True\n",
      "0\n",
      "play\n",
      "{'sunny': {'temperature': 0.5709505944546686, 'humidity': 0.9709505944546686, 'windy': 0.01997309402197489}, 'overcast': 0, 'rain': {'temperature': 0.01997309402197489, 'humidity': 0.01997309402197489, 'windy': 0.9709505944546686}}\n"
     ]
    }
   ],
   "source": [
    "if __name__ == \"__main__\":\n",
    "    main()"
   ]
  }
 ],
 "metadata": {
  "kernelspec": {
   "display_name": "Python 3",
   "language": "python",
   "name": "python3"
  },
  "language_info": {
   "codemirror_mode": {
    "name": "ipython",
    "version": 3
   },
   "file_extension": ".py",
   "mimetype": "text/x-python",
   "name": "python",
   "nbconvert_exporter": "python",
   "pygments_lexer": "ipython3",
   "version": "3.7.5"
  }
 },
 "nbformat": 4,
 "nbformat_minor": 2
}
