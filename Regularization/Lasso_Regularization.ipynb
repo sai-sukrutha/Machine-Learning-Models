{
 "cells": [
  {
   "cell_type": "markdown",
   "metadata": {},
   "source": [
    "# Import Statements"
   ]
  },
  {
   "cell_type": "code",
   "execution_count": 46,
   "metadata": {},
   "outputs": [],
   "source": [
    "import pandas as pd\n",
    "import numpy as np\n",
    "import random\n",
    "import math\n",
    "import matplotlib.pyplot as plt"
   ]
  },
  {
   "cell_type": "markdown",
   "metadata": {},
   "source": [
    "# Train and Validation Split"
   ]
  },
  {
   "cell_type": "code",
   "execution_count": 47,
   "metadata": {},
   "outputs": [],
   "source": [
    "#Pass the percentage of data you need for test like 20 % \n",
    "def train_split(df,test_per):\n",
    "    indices=df.index.tolist()\n",
    "    test_size=round(len(df)*(test_per/100))\n",
    "    random.seed(0)\n",
    "    test_indices=random.sample(population=indices,k=test_size)\n",
    "    valid_df=df.loc[test_indices]\n",
    "    train_df=df.drop(test_indices)\n",
    "    return train_df,valid_df"
   ]
  },
  {
   "cell_type": "markdown",
   "metadata": {},
   "source": [
    "# Cost function"
   ]
  },
  {
   "cell_type": "code",
   "execution_count": 48,
   "metadata": {},
   "outputs": [],
   "source": [
    "def cost_function(X, Y, W ,lamda):\n",
    "    #Cost function J=(1/2m)*[(sum(pow(hypothesis(xi) - (yi)),2)) + (lamda*sum(abs(wi))) ]#hypothesis=X.T*W as X=data.T\n",
    "    m = len(Y)\n",
    "    reg_penalty=(lamda)*np.sum(np.absolute(W))\n",
    "    J=0\n",
    "    for i in range(0,m):\n",
    "        x=X[i]\n",
    "        y=Y[i]\n",
    "        hypothesis=x.dot(W)\n",
    "        J+=(pow(hypothesis-y,2))\n",
    "    J+=reg_penalty\n",
    "    J/=(2*m)\n",
    "    return J"
   ]
  },
  {
   "cell_type": "markdown",
   "metadata": {},
   "source": [
    "# Gradient descent"
   ]
  },
  {
   "cell_type": "code",
   "execution_count": 49,
   "metadata": {},
   "outputs": [],
   "source": [
    "def gradient_descent(X,Y,B,lamda,alpha,prev_cost,iters=0):\n",
    "    #formula: Bj = Bj - alpha*(1/m)*((hypothesis(x)-y)*xj) - lamda/m*Bj\n",
    "    if( iters > 1500 ):\n",
    "        return B,prev_cost\n",
    "    m=len(Y)\n",
    "    for j in range(0,len(B)):\n",
    "        sum=0\n",
    "        gradient=1\n",
    "        for i in range(0,m):\n",
    "            x=X[i]\n",
    "            y=Y[i]\n",
    "            hypothesis=x.dot(B)\n",
    "            sum+=(hypothesis-y)*x[j]\n",
    "        if( B[j] >= 0):\n",
    "            sign=1\n",
    "        else:\n",
    "            sign=-1\n",
    "        reg_penalty=lamda/m*sign\n",
    "        gradient=sum/m\n",
    "        #update Bj\n",
    "        if( j == 0):\n",
    "            B[j]-=(alpha*gradient)\n",
    "        else:\n",
    "            B[j]-=(alpha*gradient) + reg_penalty\n",
    "    cost=cost_function(X,Y,B,lamda)\n",
    "    #print(prev_cost,cost)\n",
    "    if(abs(prev_cost - cost) < 0.000001):\n",
    "        return B,cost\n",
    "    else:\n",
    "        B,cost=gradient_descent(X,Y,B,lamda,alpha,cost,iters+1)\n",
    "    return B,cost"
   ]
  },
  {
   "cell_type": "markdown",
   "metadata": {},
   "source": [
    "# Prediction"
   ]
  },
  {
   "cell_type": "code",
   "execution_count": 50,
   "metadata": {},
   "outputs": [],
   "source": [
    "def predict(x,B):\n",
    "    ans=x.dot(B)\n",
    "    return ans"
   ]
  },
  {
   "cell_type": "code",
   "execution_count": 51,
   "metadata": {},
   "outputs": [],
   "source": [
    "def cal_error(X,Y,B,title):\n",
    "    actual_list=[]\n",
    "    predicted_list=[]\n",
    "    m=len(Y)\n",
    "    MSE=0\n",
    "    MAE=0\n",
    "    MPE=0\n",
    "    for i in range(0,len(X)):\n",
    "        actual=Y[i]\n",
    "        predicted=predict(X[i],B)\n",
    "        actual_list.append(actual)\n",
    "        predicted_list.append(predicted)\n",
    "        MSE+=pow((actual-predicted),2)\n",
    "        MAE+=abs(actual-predicted)\n",
    "        MPE+=MAE/actual*1    \n",
    "    MSE/=m\n",
    "    MAE/=m\n",
    "    MPE/=m\n",
    "    plot_linearreg(actual_list,predicted_list,title)\n",
    "    return MSE,MAE,MPE,actual_list,predicted_list"
   ]
  },
  {
   "cell_type": "code",
   "execution_count": 52,
   "metadata": {},
   "outputs": [],
   "source": [
    "def cal_MSE(X,Y,B):\n",
    "    m=len(Y)\n",
    "    MSE=0\n",
    "    for i in range(0,len(X)):\n",
    "        actual=Y[i]\n",
    "        predicted=predict(X[i],B)\n",
    "        MSE+=pow((actual-predicted),2)    \n",
    "    MSE/=m\n",
    "    return MSE"
   ]
  },
  {
   "cell_type": "code",
   "execution_count": 53,
   "metadata": {},
   "outputs": [],
   "source": [
    "def plot_linearreg(actual_list,predicted_list,title):\n",
    "    x_labels=[]\n",
    "    for i in range(len(actual_list)):      #oddnumbers\n",
    "        x_labels.append(i)\n",
    "        \n",
    "    area=np.pi\n",
    "    plt.xlabel(\"Students\")\n",
    "    plt.ylabel(\"Chance of Admit\")\n",
    "    plt.title(title)\n",
    "\n",
    "    plt.scatter(x_labels, predicted_list, s=area, c='blue', alpha=0.5)\n",
    "    plt.scatter(x_labels, actual_list, s=area, c='red', alpha=0.5)\n",
    "\n",
    "    plt.show()\n",
    "    return"
   ]
  },
  {
   "cell_type": "markdown",
   "metadata": {},
   "source": [
    "# Linear Regression Function"
   ]
  },
  {
   "cell_type": "code",
   "execution_count": 54,
   "metadata": {},
   "outputs": [],
   "source": [
    "def linear_reg_error(train_X,train_Y,B,lamda,alpha,valid_X,valid_Y):\n",
    "    \n",
    "    init_J=cost_function(train_X,train_Y,B,lamda)\n",
    "    \n",
    "    B,final_J=gradient_descent(train_X,train_Y,B,lamda,alpha,init_J)\n",
    "    print(\"Final_cost- \",final_J)\n",
    "    print(B)\n",
    "    \n",
    "    MSE=cal_MSE(valid_X,valid_Y,B)\n",
    "    return MSE"
   ]
  },
  {
   "cell_type": "code",
   "execution_count": 55,
   "metadata": {},
   "outputs": [],
   "source": [
    "#Plot graph between lamda and error\n",
    "def plot_lamda_error(train_X,train_Y,alpha,valid_X,valid_Y):\n",
    "    no_coefficients=8\n",
    "    lamda_list=[]\n",
    "    error_list=[]\n",
    "    #list=[1e-15, 1e-10, 1e-8, 1e-4, 1e-3,1e-2, 1, 3, 5, 10, 20]\n",
    "    list=[0.000001,0.0001,0.01,0.1,1,2,3,5,10,15,20,50,100,200]\n",
    "    for lamda in list:\n",
    "        print(\"Lamda value \",lamda)\n",
    "        lamda_list.append(lamda)\n",
    "        B = np.zeros(no_coefficients)\n",
    "        error=linear_reg_error(train_X,train_Y,B,lamda,alpha,valid_X,valid_Y)\n",
    "        print(\"MSE Error \",error)\n",
    "        print()\n",
    "        error_list.append(error)\n",
    "    #print(lamda_list)\n",
    "    #print(error_list)\n",
    "    #Plot Graph\n",
    "    area=np.pi\n",
    "    plt.xlabel(\"Lamda\")\n",
    "    plt.ylabel(\"Error\")\n",
    "\n",
    "    plt.plot(lamda_list, error_list)\n",
    "    plt.show()\n",
    "    \n",
    "    return"
   ]
  },
  {
   "cell_type": "markdown",
   "metadata": {},
   "source": [
    "# Helper functions"
   ]
  },
  {
   "cell_type": "code",
   "execution_count": 56,
   "metadata": {},
   "outputs": [],
   "source": [
    "#Creating X(data.T),Y arrays from df\n",
    "def to_arrays(df,label):\n",
    "    no_rows,no_cols=df.shape\n",
    "    header=list(df.columns)\n",
    "    data_array=np.ones((no_cols-1,no_rows))\n",
    "    X0=np.ones(no_rows)                      #X0=1\n",
    "    for i in range(0,no_cols-1):             #Removing first col-serial no , last col-label\n",
    "        if(i == 0):\n",
    "            data_array[i]=X0\n",
    "        else:\n",
    "            x=df[header[i]].values\n",
    "            #data_array[i]=x\n",
    "            data_array[i]=mean_normalize(x)\n",
    "    X=data_array.T        #Doing Transpose\n",
    "\n",
    "    #Y (output) array\n",
    "    Y=np.array(df[label].values)\n",
    "    \n",
    "    return X,Y"
   ]
  },
  {
   "cell_type": "code",
   "execution_count": 57,
   "metadata": {},
   "outputs": [],
   "source": [
    "def mean_normalize(x):\n",
    "    x_new=np.ones(len(x))\n",
    "    mean=np.mean(x)\n",
    "    std=np.std(x)\n",
    "    for i in range(0,len(x)):\n",
    "        x_new[i]=(x[i]-mean)/(std)\n",
    "    return x_new"
   ]
  },
  {
   "cell_type": "code",
   "execution_count": 58,
   "metadata": {},
   "outputs": [],
   "source": [
    "# from sklearn.linear_model import LinearRegression\n",
    "# from sklearn.metrics import mean_squared_error\n",
    "# from sklearn.metrics import mean_absolute_error\n",
    "\n",
    "# def scikit_linearregression(train_X,train_Y,valid_X,valid_Y):\n",
    "\n",
    "#     # Model Intialization\n",
    "#     reg = LinearRegression()\n",
    "#     # Data Fitting\n",
    "#     reg = reg.fit(train_X,train_Y)\n",
    "#     # Y Prediction\n",
    "#     Y_pred = reg.predict(valid_X)\n",
    "#     #print(Y_pred)\n",
    "\n",
    "#     # Model Evaluation\n",
    "#     mse = mean_squared_error(valid_Y, Y_pred)\n",
    "#     print(\"Mean Square Error -\",mse)\n",
    "#     mae = mean_absolute_error(valid_Y, Y_pred)\n",
    "#     print(\"Mean Absolute Error -\",mae)\n"
   ]
  },
  {
   "cell_type": "markdown",
   "metadata": {},
   "source": [
    "# Main"
   ]
  },
  {
   "cell_type": "code",
   "execution_count": 59,
   "metadata": {},
   "outputs": [],
   "source": [
    "def main():\n",
    "    file=\"AdmissionDataset/data.csv\"\n",
    "    label='Chance of Admit '\n",
    "    no_coefficients=8  #[B0,B1,B2,...,B7] also 7 columns but X0=1\n",
    "    \n",
    "    df=pd.read_csv(file)\n",
    "    header=list(df.columns)\n",
    "   \n",
    "    train_df,valid_df=train_split(df,20)\n",
    "    \n",
    "    #train_df=train_df[:,:20]\n",
    "    \n",
    "    #Training\n",
    "    train_X,train_Y=to_arrays(train_df,label)\n",
    "    \n",
    "    #B(beta) array of coefficients\n",
    "    #Initialized to zero\n",
    "    B = np.zeros(no_coefficients)\n",
    "\n",
    "    alpha = 0.003\n",
    "    lamda = 0.01\n",
    "        \n",
    "    init_J=cost_function(train_X,train_Y,B,lamda)\n",
    "    print(\"Initial_cost- \",init_J)\n",
    "    \n",
    "    B,final_J=gradient_descent(train_X,train_Y,B,lamda,alpha,init_J)\n",
    "    print(\"Final_cost- \",final_J)\n",
    "    print(B)\n",
    "    \n",
    "    #Linear Regression Plot\n",
    "    print(\"------Training--------\")\n",
    "    MSE,MAE,MPE,actual_list,predicted_list=cal_error(train_X,train_Y,B,\"Linear Regression-Training\")\n",
    "    print(\"Mean Square Error-\",MSE)\n",
    "    print(\"Mean Absolute Error-\",MAE)\n",
    "    print(\"Mean Absolute Percentage Error-\",MPE)\n",
    "    \n",
    "    \n",
    "    #Prediction\n",
    "    valid_X,valid_Y=to_arrays(valid_df,label)\n",
    "    print(\"\\n\\n-------Prediction------\")\n",
    "    MSE,MAE,MPE,_,_=cal_error(valid_X,valid_Y,B,\"Linear Regression-Validation\")\n",
    "    print(\"Mean Square Error-\",MSE)\n",
    "    print(\"Mean Absolute Error-\",MAE)\n",
    "    print(\"Mean Absolute Percentage Error-\",MPE)\n",
    "    \n",
    "    #Plot between lamda and error\n",
    "    print(\"\\nGraph between lamda and error\")\n",
    "    plot_lamda_error(train_X,train_Y,alpha,valid_X,valid_Y)\n",
    "    \n",
    "    return"
   ]
  },
  {
   "cell_type": "code",
   "execution_count": 60,
   "metadata": {},
   "outputs": [
    {
     "name": "stdout",
     "output_type": "stream",
     "text": [
      "Initial_cost-  0.26883291666666687\n",
      "Final_cost-  0.0021232870020258376\n",
      "[0.70181944 0.02716427 0.02022533 0.00976201 0.00717049 0.01233171\n",
      " 0.04594153 0.01110807]\n",
      "------Training--------\n"
     ]
    },
    {
     "data": {
      "image/png": "[encoded data removed]",
      "text/plain": [
       "<Figure size 432x288 with 1 Axes>"
      ]
     },
     "metadata": {
      "needs_background": "light"
     },
     "output_type": "display_data"
    },
    {
     "name": "stdout",
     "output_type": "stream",
     "text": [
      "Mean Square Error- 0.004223365035911271\n",
      "Mean Absolute Error- 0.05118071413629078\n",
      "Mean Absolute Percentage Error- 13.456678191096547\n",
      "\n",
      "\n",
      "-------Prediction------\n"
     ]
    },
    {
     "data": {
      "image/png": "[encoded data removed]",
      "text/plain": [
       "<Figure size 432x288 with 1 Axes>"
      ]
     },
     "metadata": {
      "needs_background": "light"
     },
     "output_type": "display_data"
    },
    {
     "name": "stdout",
     "output_type": "stream",
     "text": [
      "Mean Square Error- 0.004279822939048903\n",
      "Mean Absolute Error- 0.05396608490223248\n",
      "Mean Absolute Percentage Error- 3.609775254947816\n",
      "\n",
      "Graph between lamda and error\n",
      "Lamda value  1e-06\n",
      "Final_cost-  0.0020515687805301827\n",
      "[0.70187257 0.02822508 0.02211317 0.01169629 0.0088618  0.01568017\n",
      " 0.04604213 0.01581968]\n",
      "MSE Error  0.004250607213271586\n",
      "\n",
      "Lamda value  0.0001\n",
      "Final_cost-  0.002051611136662823\n",
      "[0.70187257 0.02821458 0.02209444 0.01167711 0.00884501 0.015647\n",
      " 0.04604126 0.01577302]\n",
      "MSE Error  0.004249506681957608\n",
      "\n",
      "Lamda value  0.01\n",
      "Final_cost-  0.0021232870020258376\n",
      "[0.70181944 0.02716427 0.02022533 0.00976201 0.00717049 0.01233171\n",
      " 0.04594153 0.01110807]\n",
      "MSE Error  0.004279822939048903\n",
      "\n",
      "Lamda value  0.1\n",
      "Final_cost-  0.009991551529860004\n",
      "[6.42571271e-01 5.11208016e-03 5.06328799e-04 1.56929491e-04\n",
      " 2.33698993e-04 9.65167904e-05 2.18096184e-02 3.15566626e-04]\n",
      "MSE Error  0.02072056884303331\n",
      "\n",
      "Lamda value  1\n",
      "Final_cost-  0.011419622114495173\n",
      "[ 6.80968245e-01  1.76860244e-03  1.28554598e-03 -2.20153903e-03\n",
      "  2.27411865e-04  1.02767462e-03  2.80105467e-04 -2.99699695e-04]\n",
      "MSE Error  0.021442163116194634\n",
      "\n",
      "Lamda value  2\n",
      "Final_cost-  0.012948114342751555\n",
      "[ 0.71161224  0.00286029 -0.00377605 -0.00513439 -0.00134497 -0.00113931\n",
      " -0.00102753  0.00084397]\n",
      "MSE Error  0.021953039659389453\n",
      "\n",
      "Lamda value  3\n",
      "Final_cost-  0.01256278317439015\n",
      "[ 0.71161224 -0.00140339 -0.00261058  0.00727707 -0.00560519 -0.00502082\n",
      "  0.00573175  0.00822578]\n",
      "MSE Error  0.018956455849484025\n",
      "\n",
      "Lamda value  5\n",
      "Final_cost-  0.015167293574466825\n",
      "[ 7.11612244e-01 -8.78291659e-03  1.08271427e-03 -7.02329528e-05\n",
      "  3.72328551e-03 -1.26380138e-03  3.84311531e-03  1.20800198e-03]\n",
      "MSE Error  0.0203935494003783\n",
      "\n",
      "Lamda value  10\n",
      "Final_cost-  0.020187321918903843\n",
      "[ 0.71161224  0.02321404  0.00532706  0.00358644  0.00720202 -0.02429584\n",
      "  0.00745982 -0.02021401]\n",
      "MSE Error  0.01815665341920145\n",
      "\n",
      "Lamda value  15\n",
      "Final_cost-  0.022381979436876302\n",
      "[ 0.71161224  0.0208267   0.00269479  0.02912392  0.0323589   0.00262886\n",
      " -0.02344111  0.03616692]\n",
      "MSE Error  0.009855505646560302\n",
      "\n",
      "Lamda value  20\n",
      "Final_cost-  0.043418892397046056\n",
      "[ 0.71161224  0.0460843   0.02833363 -0.03165045 -0.02838036 -0.0516945\n",
      " -0.0277667   0.01772622]\n",
      "MSE Error  0.03405466170740405\n",
      "\n",
      "Lamda value  50\n",
      "Final_cost-  0.1541867975517022\n",
      "[ 0.71161224 -0.04138345 -0.04949147 -0.05852336 -0.06166112 -0.05495378\n",
      " -0.01844672 -0.0547503 ]\n",
      "MSE Error  0.162117646819232\n",
      "\n",
      "Lamda value  100\n",
      "Final_cost-  0.532809271313483\n",
      "[ 0.71161224 -0.11079491 -0.12034197 -0.12815891 -0.13102796 -0.12544918\n",
      " -0.0857027  -0.12511461]\n",
      "MSE Error  0.6409260396749316\n",
      "\n",
      "Lamda value  200\n",
      "Final_cost-  1.969104838067957\n",
      "[ 0.71161224 -0.24961783 -0.26204297 -0.26743002 -0.26976165 -0.26643999\n",
      " -0.22021465 -0.26584322]\n",
      "MSE Error  2.5600651567436437\n",
      "\n"
     ]
    },
    {
     "data": {
      "image/png": "[encoded data removed]",
      "text/plain": [
       "<Figure size 432x288 with 1 Axes>"
      ]
     },
     "metadata": {
      "needs_background": "light"
     },
     "output_type": "display_data"
    }
   ],
   "source": [
    "if __name__ == \"__main__\":\n",
    "    main()"
   ]
  }
 ],
 "metadata": {
  "kernelspec": {
   "display_name": "Python 3",
   "language": "python",
   "name": "python3"
  },
  "language_info": {
   "codemirror_mode": {
    "name": "ipython",
    "version": 3
   },
   "file_extension": ".py",
   "mimetype": "text/x-python",
   "name": "python",
   "nbconvert_exporter": "python",
   "pygments_lexer": "ipython3",
   "version": "3.7.5"
  }
 },
 "nbformat": 4,
 "nbformat_minor": 2
}
