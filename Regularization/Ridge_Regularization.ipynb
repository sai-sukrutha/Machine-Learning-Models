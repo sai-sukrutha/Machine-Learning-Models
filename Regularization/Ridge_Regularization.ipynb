{
 "cells": [
  {
   "cell_type": "markdown",
   "metadata": {},
   "source": [
    "# Import Statements"
   ]
  },
  {
   "cell_type": "code",
   "execution_count": 16,
   "metadata": {},
   "outputs": [],
   "source": [
    "import pandas as pd\n",
    "import numpy as np\n",
    "import random\n",
    "import math\n",
    "import matplotlib.pyplot as plt"
   ]
  },
  {
   "cell_type": "markdown",
   "metadata": {},
   "source": [
    "# Train and Validation Split"
   ]
  },
  {
   "cell_type": "code",
   "execution_count": 17,
   "metadata": {},
   "outputs": [],
   "source": [
    "#Pass the percentage of data you need for test like 20 % \n",
    "def train_split(df,test_per):\n",
    "    indices=df.index.tolist()\n",
    "    test_size=round(len(df)*(test_per/100))\n",
    "    random.seed(0)\n",
    "    test_indices=random.sample(population=indices,k=test_size)\n",
    "    valid_df=df.loc[test_indices]\n",
    "    train_df=df.drop(test_indices)\n",
    "    return train_df,valid_df"
   ]
  },
  {
   "cell_type": "markdown",
   "metadata": {},
   "source": [
    "# Cost function"
   ]
  },
  {
   "cell_type": "code",
   "execution_count": 18,
   "metadata": {},
   "outputs": [],
   "source": [
    "def cost_function(X, Y, W ,lamda):\n",
    "    #Cost function J=(1/2m)*[(sum(pow(hypothesis(xi) - (yi)),2)) + (lamda*sum(pow(wi,2))) ]#hypothesis=X.T*W as X=data.T\n",
    "    m = len(Y)\n",
    "    reg_penalty=(lamda)*np.sum(np.square(W))\n",
    "    J=0\n",
    "    for i in range(0,m):\n",
    "        x=X[i]\n",
    "        y=Y[i]\n",
    "        hypothesis=x.dot(W)\n",
    "        J+=(pow(hypothesis-y,2))\n",
    "    J+=reg_penalty\n",
    "    J/=(2*m)\n",
    "    return J"
   ]
  },
  {
   "cell_type": "markdown",
   "metadata": {},
   "source": [
    "# Gradient descent"
   ]
  },
  {
   "cell_type": "code",
   "execution_count": 19,
   "metadata": {},
   "outputs": [],
   "source": [
    "def gradient_descent(X,Y,B,lamda,alpha,prev_cost):\n",
    "    #formula: Bj = Bj - alpha*(1/m)*((hypothesis(x)-y)*xj) - lamda/m*Bj\n",
    "    m=len(Y)\n",
    "    for j in range(0,len(B)):\n",
    "        sum=0\n",
    "        gradient=1\n",
    "        for i in range(0,m):\n",
    "            x=X[i]\n",
    "            y=Y[i]\n",
    "            hypothesis=x.dot(B)\n",
    "            sum+=(hypothesis-y)*x[j]\n",
    "        reg_penalty=lamda/m*B[j]\n",
    "        gradient=sum/m\n",
    "        #update Bj\n",
    "        if( j == 0):\n",
    "            B[j]-=(alpha*gradient)\n",
    "        else:\n",
    "            B[j]-=(alpha*gradient) + reg_penalty\n",
    "    cost=cost_function(X,Y,B,lamda)\n",
    "    #print(prev_cost,cost)\n",
    "    if(abs(prev_cost - cost) <  0.000001):\n",
    "        return B,cost\n",
    "    else:\n",
    "        B,cost=gradient_descent(X,Y,B,lamda,alpha,cost)\n",
    "    return B,cost"
   ]
  },
  {
   "cell_type": "markdown",
   "metadata": {},
   "source": [
    "# Prediction"
   ]
  },
  {
   "cell_type": "code",
   "execution_count": 20,
   "metadata": {},
   "outputs": [],
   "source": [
    "def predict(x,B):\n",
    "    ans=x.dot(B)\n",
    "    return ans"
   ]
  },
  {
   "cell_type": "code",
   "execution_count": 21,
   "metadata": {},
   "outputs": [],
   "source": [
    "def cal_error(X,Y,B,title):\n",
    "    actual_list=[]\n",
    "    predicted_list=[]\n",
    "    m=len(Y)\n",
    "    MSE=0\n",
    "    MAE=0\n",
    "    MPE=0\n",
    "    for i in range(0,len(X)):\n",
    "        actual=Y[i]\n",
    "        predicted=predict(X[i],B)\n",
    "        actual_list.append(actual)\n",
    "        predicted_list.append(predicted)\n",
    "        MSE+=pow((actual-predicted),2)\n",
    "        MAE+=abs(actual-predicted)\n",
    "        MPE+=MAE/actual*1    \n",
    "    MSE/=m\n",
    "    MAE/=m\n",
    "    MPE/=m\n",
    "    plot_linearreg(actual_list,predicted_list,title)\n",
    "    return MSE,MAE,MPE,actual_list,predicted_list"
   ]
  },
  {
   "cell_type": "code",
   "execution_count": 22,
   "metadata": {},
   "outputs": [],
   "source": [
    "def cal_MSE(X,Y,B):\n",
    "    m=len(Y)\n",
    "    MSE=0\n",
    "    for i in range(0,len(X)):\n",
    "        actual=Y[i]\n",
    "        predicted=predict(X[i],B)\n",
    "        MSE+=pow((actual-predicted),2)    \n",
    "    MSE/=m\n",
    "    return MSE"
   ]
  },
  {
   "cell_type": "code",
   "execution_count": 23,
   "metadata": {},
   "outputs": [],
   "source": [
    "def plot_linearreg(actual_list,predicted_list,title):\n",
    "    x_labels=[]\n",
    "    for i in range(len(actual_list)):      #oddnumbers\n",
    "        x_labels.append(i)\n",
    "        \n",
    "    area=np.pi\n",
    "    plt.xlabel(\"Students\")\n",
    "    plt.ylabel(\"Chance of Admit\")\n",
    "    plt.title(title)\n",
    "\n",
    "    plt.scatter(x_labels, predicted_list, s=area, c='blue', alpha=0.5)\n",
    "    plt.scatter(x_labels, actual_list, s=area, c='red', alpha=0.5)\n",
    "\n",
    "    plt.show()\n",
    "    return"
   ]
  },
  {
   "cell_type": "markdown",
   "metadata": {},
   "source": [
    "# Linear Regression Function"
   ]
  },
  {
   "cell_type": "code",
   "execution_count": 24,
   "metadata": {},
   "outputs": [],
   "source": [
    "def linear_reg_error(train_X,train_Y,B,lamda,alpha,valid_X,valid_Y):\n",
    "    \n",
    "    init_J=cost_function(train_X,train_Y,B,lamda)\n",
    "    \n",
    "    B,final_J=gradient_descent(train_X,train_Y,B,lamda,alpha,init_J)\n",
    "    print(\"Final_cost- \",final_J)\n",
    "    print(B)\n",
    "    \n",
    "    MSE=cal_MSE(valid_X,valid_Y,B)\n",
    "    return MSE"
   ]
  },
  {
   "cell_type": "code",
   "execution_count": 25,
   "metadata": {},
   "outputs": [],
   "source": [
    "#Plot graph between lamda and error\n",
    "def plot_lamda_error(train_X,train_Y,alpha,valid_X,valid_Y):\n",
    "    no_coefficients=8\n",
    "    lamda_list=[]\n",
    "    error_list=[]\n",
    "    list=[1e-15, 1e-10, 1e-8, 1e-4, 1e-3,1e-2, 1, 3, 5, 10, 20, 50, 100, 200]\n",
    "    for lamda in list:\n",
    "        print(\"Lamda value \",lamda)\n",
    "        lamda_list.append(lamda)\n",
    "        B = np.zeros(no_coefficients)\n",
    "        error=linear_reg_error(train_X,train_Y,B,lamda,alpha,valid_X,valid_Y)\n",
    "        print(\"MSE Error \",error)\n",
    "        print()\n",
    "        error_list.append(error)\n",
    "    #print(lamda_list)\n",
    "    #print(error_list)\n",
    "    #Plot Graph\n",
    "    area=np.pi\n",
    "    plt.xlabel(\"Lamda\")\n",
    "    plt.ylabel(\"Error\")\n",
    "\n",
    "    plt.plot(lamda_list, error_list)\n",
    "    plt.show()\n",
    "    \n",
    "    return"
   ]
  },
  {
   "cell_type": "markdown",
   "metadata": {},
   "source": [
    "# Helper functions"
   ]
  },
  {
   "cell_type": "code",
   "execution_count": 26,
   "metadata": {},
   "outputs": [],
   "source": [
    "#Creating X(data.T),Y arrays from df\n",
    "def to_arrays(df,label):\n",
    "    no_rows,no_cols=df.shape\n",
    "    header=list(df.columns)\n",
    "    data_array=np.ones((no_cols-1,no_rows))\n",
    "    X0=np.ones(no_rows)                      #X0=1\n",
    "    for i in range(0,no_cols-1):             #Removing first col-serial no , last col-label\n",
    "        if(i == 0):\n",
    "            data_array[i]=X0\n",
    "        else:\n",
    "            x=df[header[i]].values\n",
    "            #data_array[i]=x\n",
    "            data_array[i]=mean_normalize(x)\n",
    "    X=data_array.T        #Doing Transpose\n",
    "\n",
    "    #Y (output) array\n",
    "    Y=np.array(df[label].values)\n",
    "    \n",
    "    return X,Y"
   ]
  },
  {
   "cell_type": "code",
   "execution_count": 27,
   "metadata": {},
   "outputs": [],
   "source": [
    "def mean_normalize(x):\n",
    "    x_new=np.ones(len(x))\n",
    "    mean=np.mean(x)\n",
    "    std=np.std(x)\n",
    "    for i in range(0,len(x)):\n",
    "        x_new[i]=(x[i]-mean)/(std)\n",
    "    return x_new"
   ]
  },
  {
   "cell_type": "code",
   "execution_count": 28,
   "metadata": {},
   "outputs": [],
   "source": [
    "# from sklearn.linear_model import LinearRegression\n",
    "# from sklearn.metrics import mean_squared_error\n",
    "# from sklearn.metrics import mean_absolute_error\n",
    "\n",
    "# def scikit_linearregression(train_X,train_Y,valid_X,valid_Y):\n",
    "\n",
    "#     # Model Intialization\n",
    "#     reg = LinearRegression()\n",
    "#     # Data Fitting\n",
    "#     reg = reg.fit(train_X,train_Y)\n",
    "#     # Y Prediction\n",
    "#     Y_pred = reg.predict(valid_X)\n",
    "#     #print(Y_pred)\n",
    "\n",
    "#     # Model Evaluation\n",
    "#     mse = mean_squared_error(valid_Y, Y_pred)\n",
    "#     print(\"Mean Square Error -\",mse)\n",
    "#     mae = mean_absolute_error(valid_Y, Y_pred)\n",
    "#     print(\"Mean Absolute Error -\",mae)\n"
   ]
  },
  {
   "cell_type": "markdown",
   "metadata": {},
   "source": [
    "# # Main"
   ]
  },
  {
   "cell_type": "code",
   "execution_count": 29,
   "metadata": {},
   "outputs": [],
   "source": [
    "def main():\n",
    "    file=\"AdmissionDataset/data.csv\"\n",
    "    label='Chance of Admit '\n",
    "    no_coefficients=8  #[B0,B1,B2,...,B7] also 7 columns but X0=1\n",
    "    \n",
    "    df=pd.read_csv(file)\n",
    "    header=list(df.columns)\n",
    "   \n",
    "    train_df,valid_df=train_split(df,20)\n",
    "    \n",
    "    #train_df=train_df[:,:20]\n",
    "    \n",
    "    #Training\n",
    "    train_X,train_Y=to_arrays(train_df,label)\n",
    "    \n",
    "    #B(beta) array of coefficients\n",
    "    #Initialized to zero\n",
    "    B = np.zeros(no_coefficients)\n",
    "\n",
    "    alpha = 0.003\n",
    "    lamda = 0.01\n",
    "        \n",
    "    init_J=cost_function(train_X,train_Y,B,lamda)\n",
    "    print(\"Initial_cost- \",init_J)\n",
    "    \n",
    "    B,final_J=gradient_descent(train_X,train_Y,B,lamda,alpha,init_J)\n",
    "    print(\"Final_cost- \",final_J)\n",
    "    print(B)\n",
    "    \n",
    "    #Linear Regression Plot\n",
    "    print(\"------Training--------\")\n",
    "    MSE,MAE,MPE,actual_list,predicted_list=cal_error(train_X,train_Y,B,\"Linear Regression-Training\")\n",
    "    print(\"Mean Square Error-\",MSE)\n",
    "    print(\"Mean Absolute Error-\",MAE)\n",
    "    print(\"Mean Absolute Percentage Error-\",MPE)\n",
    "    \n",
    "    \n",
    "    #Prediction\n",
    "    valid_X,valid_Y=to_arrays(valid_df,label)\n",
    "    print(\"\\n\\n-------Prediction------\")\n",
    "    MSE,MAE,MPE,_,_=cal_error(valid_X,valid_Y,B,\"Linear Regression-Validation\")\n",
    "    print(\"Mean Square Error-\",MSE)\n",
    "    print(\"Mean Absolute Error-\",MAE)\n",
    "    print(\"Mean Absolute Percentage Error-\",MPE)\n",
    "    \n",
    "    #Plot between lamda and error\n",
    "    print(\"\\nGraph between lamda and error\")\n",
    "    plot_lamda_error(train_X,train_Y,alpha,valid_X,valid_Y)\n",
    "    \n",
    "    return"
   ]
  },
  {
   "cell_type": "code",
   "execution_count": 30,
   "metadata": {},
   "outputs": [
    {
     "name": "stdout",
     "output_type": "stream",
     "text": [
      "Initial_cost-  0.26883291666666687\n",
      "Final_cost-  0.0020611316084912204\n",
      "[0.70181944 0.02813841 0.02210959 0.0117778  0.00899661 0.01568359\n",
      " 0.04566888 0.01580783]\n",
      "------Training--------\n"
     ]
    },
    {
     "data": {
      "image/png": "[encoded data removed]",
      "text/plain": [
       "<Figure size 432x288 with 1 Axes>"
      ]
     },
     "metadata": {
      "needs_background": "light"
     },
     "output_type": "display_data"
    },
    {
     "name": "stdout",
     "output_type": "stream",
     "text": [
      "Mean Square Error- 0.004108467875414106\n",
      "Mean Absolute Error- 0.04960682599205102\n",
      "Mean Absolute Percentage Error- 13.009687890526672\n",
      "\n",
      "\n",
      "-------Prediction------\n"
     ]
    },
    {
     "data": {
      "image/png": "[encoded data removed]",
      "text/plain": [
       "<Figure size 432x288 with 1 Axes>"
      ]
     },
     "metadata": {
      "needs_background": "light"
     },
     "output_type": "display_data"
    },
    {
     "name": "stdout",
     "output_type": "stream",
     "text": [
      "Mean Square Error- 0.004260344559062523\n",
      "Mean Absolute Error- 0.05313096463152384\n",
      "Mean Absolute Percentage Error- 3.5869584778346515\n",
      "\n",
      "Graph between lamda and error\n",
      "Lamda value  1e-15\n",
      "Final_cost-  0.002051568419818929\n",
      "[0.70187257 0.02822519 0.02211336 0.01169648 0.00886197 0.0156805\n",
      " 0.04604214 0.01582015]\n",
      "MSE Error  0.00425061846868549\n",
      "\n",
      "Lamda value  1e-10\n",
      "Final_cost-  0.0020515684199042756\n",
      "[0.70187257 0.02822519 0.02211336 0.01169648 0.00886197 0.0156805\n",
      " 0.04604214 0.01582015]\n",
      "MSE Error  0.004250618468754166\n",
      "\n",
      "Lamda value  1e-08\n",
      "Final_cost-  0.00205156842835353\n",
      "[0.70187257 0.02822519 0.02211336 0.01169648 0.00886197 0.0156805\n",
      " 0.04604214 0.01582015]\n",
      "MSE Error  0.0042506184755530235\n",
      "\n",
      "Lamda value  0.0001\n",
      "Final_cost-  0.002051653769381046\n",
      "[0.70187257 0.02822431 0.0221133  0.01169728 0.00886329 0.01568053\n",
      " 0.04603848 0.01582002]\n",
      "MSE Error  0.00425068714731282\n",
      "\n",
      "Lamda value  0.001\n",
      "Final_cost-  0.0020524222351599565\n",
      "[0.70187257 0.02821643 0.02211275 0.01170445 0.00887511 0.01568077\n",
      " 0.04600559 0.01581885]\n",
      "MSE Error  0.004251305549996467\n",
      "\n",
      "Lamda value  0.01\n",
      "Final_cost-  0.0020611316084912204\n",
      "[0.70181944 0.02813841 0.02210959 0.0117778  0.00899661 0.01568359\n",
      " 0.04566888 0.01580783]\n",
      "MSE Error  0.004260344559062523\n",
      "\n",
      "Lamda value  1\n",
      "Final_cost-  0.0030984591173573157\n",
      "[0.70038065 0.02201681 0.01964624 0.01407142 0.01342357 0.01462075\n",
      " 0.02779378 0.01385333]\n",
      "MSE Error  0.005148767996874749\n",
      "\n",
      "Lamda value  3\n",
      "Final_cost-  0.005425394105620215\n",
      "[0.6981935  0.01589283 0.01484474 0.01194474 0.01183888 0.01158654\n",
      " 0.01821742 0.01052472]\n",
      "MSE Error  0.007153128920666393\n",
      "\n",
      "Lamda value  5\n",
      "Final_cost-  0.007673066280530894\n",
      "[0.69589893 0.01256506 0.01187831 0.00988776 0.00987188 0.00944131\n",
      " 0.01407122 0.0084468 ]\n",
      "MSE Error  0.009007855940468037\n",
      "\n",
      "Lamda value  10\n",
      "Final_cost-  0.012615136291944785\n",
      "[0.68947879 0.00829814 0.00792251 0.00678836 0.00681322 0.00640462\n",
      " 0.00912537 0.00564995]\n",
      "MSE Error  0.012484942547850847\n",
      "\n",
      "Lamda value  20\n",
      "Final_cost-  0.02075561341287518\n",
      "[0.67471789 0.00495681 0.00475743 0.00414109 0.00416691 0.00388362\n",
      " 0.0054004  0.00339835]\n",
      "MSE Error  0.016868692913160906\n",
      "\n",
      "Lamda value  50\n",
      "Final_cost-  0.04016048234599506\n",
      "[0.62874329 0.00224787 0.00216454 0.00190287 0.00191763 0.00177817\n",
      " 0.00243521 0.00154782]\n",
      "MSE Error  0.026682374824627233\n",
      "\n",
      "Lamda value  100\n",
      "Final_cost-  0.0655046836493488\n",
      "[0.56172941 0.00117666 0.00113431 0.00100056 0.00100883 0.00093388\n",
      " 0.00127231 0.00081141]\n",
      "MSE Error  0.045535694525401155\n",
      "\n",
      "Lamda value  200\n",
      "Final_cost-  0.10203740770004437\n",
      "[4.62791722e-01 6.02492797e-04 5.81131390e-04 5.13484061e-04\n",
      " 5.17857090e-04 4.78977248e-04 6.50850493e-04 4.15781732e-04]\n",
      "MSE Error  0.0886098053187228\n",
      "\n"
     ]
    },
    {
     "data": {
      "image/png": "[encoded data removed]",
      "text/plain": [
       "<Figure size 432x288 with 1 Axes>"
      ]
     },
     "metadata": {
      "needs_background": "light"
     },
     "output_type": "display_data"
    }
   ],
   "source": [
    "if __name__ == \"__main__\":\n",
    "    main()"
   ]
  }
 ],
 "metadata": {
  "kernelspec": {
   "display_name": "Python 3",
   "language": "python",
   "name": "python3"
  },
  "language_info": {
   "codemirror_mode": {
    "name": "ipython",
    "version": 3
   },
   "file_extension": ".py",
   "mimetype": "text/x-python",
   "name": "python",
   "nbconvert_exporter": "python",
   "pygments_lexer": "ipython3",
   "version": "3.7.5"
  }
 },
 "nbformat": 4,
 "nbformat_minor": 2
}
