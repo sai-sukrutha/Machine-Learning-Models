{
 "cells": [
  {
   "cell_type": "markdown",
   "metadata": {},
   "source": [
    "## Parameters Analysis"
   ]
  },
  {
   "cell_type": "markdown",
   "metadata": {},
   "source": [
    "1 : No of parameters in 1st Convolution layer\n",
    "\n",
    "    156 parameters\n",
    "    filter - 6 5*5 filters\n",
    "    bias- 6*5*5"
   ]
  },
  {
   "cell_type": "markdown",
   "metadata": {},
   "source": [
    "2 :  No of parameters in pooling operation\n",
    "\n",
    "    12 parameters\n",
    "    pool filter size\n",
    "    stride\n",
    "    For max_pool ,\n",
    "        pool filter size = 2*2\n",
    "        stride = 2"
   ]
  },
  {
   "cell_type": "markdown",
   "metadata": {},
   "source": [
    "3 : No of parameters\n",
    "\n",
    "    a) conv\n",
    "       input - 32*32*3 , filter-6*5*5 , bias -6*5*5\n",
    "       156 parameters\n",
    "   \n",
    "    b) pool\n",
    "       input - 28*28*6\n",
    "       filter size -1\n",
    "       stride -1  (size of parameters)\n",
    "       12 parameters\n",
    "   \n",
    "    c) FC\n",
    "       input - 120\n",
    "       weight - 120*84\n",
    "       bias   - 1*84\n",
    "       10,164 parameters\n",
    "   \n",
    "    d) Activation Functions\n",
    "       input - 32*32*3\n",
    "   \n",
    "Fully Connected (FC) layer has more number of parameters"
   ]
  },
  {
   "cell_type": "markdown",
   "metadata": {},
   "source": [
    "4 : Most amount of memory\n",
    "\n",
    "    a) initial convolution layers\n",
    "       input - 32*32*3 (3072) filter- 6*5*5\n",
    "\n",
    "    b) fully connected layers at end\n",
    "       input - 120 weights - 120*84\n",
    "                             (10,080)\n",
    "                         \n",
    "Fully connected layer consumes more memory"
   ]
  }
 ],
 "metadata": {
  "kernelspec": {
   "display_name": "Python 3",
   "language": "python",
   "name": "python3"
  },
  "language_info": {
   "codemirror_mode": {
    "name": "ipython",
    "version": 3
   },
   "file_extension": ".py",
   "mimetype": "text/x-python",
   "name": "python",
   "nbconvert_exporter": "python",
   "pygments_lexer": "ipython3",
   "version": "3.7.5"
  }
 },
 "nbformat": 4,
 "nbformat_minor": 2
}
