{
 "cells": [
  {
   "cell_type": "markdown",
   "metadata": {},
   "source": [
    "# Import Statements"
   ]
  },
  {
   "cell_type": "code",
   "execution_count": 80,
   "metadata": {},
   "outputs": [],
   "source": [
    "import pandas as pd\n",
    "import numpy as np\n",
    "import matplotlib.pyplot as plt\n",
    "import random\n",
    "import math\n",
    "import operator\n",
    "import sys"
   ]
  },
  {
   "cell_type": "markdown",
   "metadata": {},
   "source": [
    "##Train and Validation Split"
   ]
  },
  {
   "cell_type": "code",
   "execution_count": 81,
   "metadata": {},
   "outputs": [],
   "source": [
    "#Pass the percentage of data you need for test like 20 % \n",
    "def train_split(df,test_per):\n",
    "    indices=df.index.tolist()\n",
    "    test_size=round(len(df)*(test_per/100))\n",
    "    random.seed(0)\n",
    "    test_indices=random.sample(population=indices,k=test_size)\n",
    "    valid_df=df.loc[test_indices]\n",
    "    train_df=df.drop(test_indices)\n",
    "    return train_df,valid_df"
   ]
  },
  {
   "cell_type": "markdown",
   "metadata": {},
   "source": [
    "## Distance Functions"
   ]
  },
  {
   "cell_type": "code",
   "execution_count": 82,
   "metadata": {},
   "outputs": [],
   "source": [
    "def euclidean_dist(data,inst,dimensions):\n",
    "    dist=0\n",
    "    sum=0\n",
    "    for i in range(2,dimensions):\n",
    "        sum+=(data[i]-inst[i])**2\n",
    "    dist=math.sqrt(sum)\n",
    "    return dist"
   ]
  },
  {
   "cell_type": "code",
   "execution_count": 83,
   "metadata": {},
   "outputs": [],
   "source": [
    "def manhattan_dist(data,inst,dimensions):\n",
    "    dist=0\n",
    "    for i in range(2,dimensions):\n",
    "        dist+=abs(data[i]-inst[i])\n",
    "    return dist"
   ]
  },
  {
   "cell_type": "code",
   "execution_count": 84,
   "metadata": {},
   "outputs": [],
   "source": [
    "def chebyshev_dist(data,inst,dimensions):\n",
    "    dist=0\n",
    "    for i in range(1,dimensions):\n",
    "        temp=abs(data[i]-inst[i])\n",
    "        if(temp > dist):\n",
    "            dist=temp\n",
    "    return dist"
   ]
  },
  {
   "cell_type": "markdown",
   "metadata": {},
   "source": [
    "## Find Neighbours"
   ]
  },
  {
   "cell_type": "code",
   "execution_count": 85,
   "metadata": {},
   "outputs": [],
   "source": [
    "#Calculate distance from one validation point to all the training points and returns sorted list\n",
    "def find_neighbours_eucli(df,inst,dimensions):\n",
    "    neighbours={}\n",
    "    for i in range(0,len(df)):\n",
    "        dist=euclidean_dist(df.iloc[i],inst,dimensions)\n",
    "        neighbours[i]=dist\n",
    "    sorted_neighbours = sorted(neighbours.items(), key=operator.itemgetter(1))\n",
    "    return sorted_neighbours"
   ]
  },
  {
   "cell_type": "code",
   "execution_count": 86,
   "metadata": {},
   "outputs": [],
   "source": [
    "def find_neighbours_manhttn(df,inst,dimensions):\n",
    "    neighbours={}\n",
    "    for i in range(0,len(df)):\n",
    "        dist=manhattan_dist(df.iloc[i],inst,dimensions)\n",
    "        neighbours[i]=dist\n",
    "    sorted_neighbours = sorted(neighbours.items(), key=operator.itemgetter(1))\n",
    "    return sorted_neighbours"
   ]
  },
  {
   "cell_type": "code",
   "execution_count": 87,
   "metadata": {},
   "outputs": [],
   "source": [
    "def find_neighbours_chebyshev(df,inst,dimensions):\n",
    "    neighbours={}\n",
    "    for i in range(0,len(df)):\n",
    "        dist=chebyshev_dist(df.iloc[i],inst,dimensions)\n",
    "        neighbours[i]=dist\n",
    "    sorted_neighbours = sorted(neighbours.items(), key=operator.itemgetter(1))\n",
    "    return sorted_neighbours"
   ]
  },
  {
   "cell_type": "markdown",
   "metadata": {},
   "source": [
    "## Prediction"
   ]
  },
  {
   "cell_type": "code",
   "execution_count": 88,
   "metadata": {},
   "outputs": [],
   "source": [
    "def predict(train_df,neighbours,k,list_classes,label):\n",
    "    prediction=None\n",
    "    count=[0]*len(list_classes)\n",
    "    for i in range(0,k):\n",
    "        index=neighbours[i][0]\n",
    "        output=train_df.iloc[index][label]\n",
    "        for j in range(0,len(list_classes)):\n",
    "            if(output == list_classes[j]):\n",
    "                count[j]=count[j]+1\n",
    "    max_index=max_count(count)\n",
    "    prediction=list_classes[max_index]\n",
    "    return prediction "
   ]
  },
  {
   "cell_type": "markdown",
   "metadata": {},
   "source": [
    "# Confusion Matrix"
   ]
  },
  {
   "cell_type": "code",
   "execution_count": 89,
   "metadata": {},
   "outputs": [],
   "source": [
    "def confusion_matrix_eucli(train_df,valid_df,k,list_classes,dimensions,label):\n",
    "    total=len(valid_df)\n",
    "    no_classes=len(list_classes)\n",
    "    correct=0\n",
    "    conf_mat = [[0 for x in range(no_classes)] for y in range(no_classes)] \n",
    "    TN=0\n",
    "    TP=0\n",
    "    FP=0\n",
    "    FN=0\n",
    "    for i in range(0,total):\n",
    "        inst=valid_df.iloc[i]\n",
    "        actual=inst[label]\n",
    "        #print(\"Actual-\",actual)\n",
    "        neighbours=find_neighbours_eucli(train_df,inst,dimensions)\n",
    "        predicted=predict(train_df,neighbours,k,list_classes,label)\n",
    "        #print(\"Predicted-\",predicted)\n",
    "        if(actual == predicted):\n",
    "            correct+=1\n",
    "            \n",
    "        for i in range(0,no_classes):\n",
    "            for j in range(0,no_classes):\n",
    "                if( actual == list_classes[i] and predicted == list_classes[j]):\n",
    "                    conf_mat[i][j]=conf_mat[i][j]+1\n",
    "    \n",
    "    accuracy=correct/total\n",
    "    print(\"Accuracy - \",accuracy)\n",
    "    #print(correct,\" / \",total,\" - \",accuracy)\n",
    "    \n",
    "    #print(\"Confusion Matrix - \")\n",
    "    #print(conf_mat)\n",
    "    conf_arr=np.array(conf_mat)\n",
    "    #print(conf_arr)\n",
    "    \n",
    "    total_counts=[0]*no_classes\n",
    "    for i in range(0,no_classes):\n",
    "        row=conf_arr[i]\n",
    "        total_counts[i]=row.sum()\n",
    "    #print(total_counts)\n",
    "    \n",
    "    TP=[0]*no_classes\n",
    "    for i in range(0,no_classes):\n",
    "        for j in range(0,no_classes):\n",
    "            if(i == j):\n",
    "                TP[i]=conf_mat[i][j]\n",
    "    #print(\"TP-\",TP)\n",
    "    \n",
    "    FN=[0]*no_classes\n",
    "    for i in range(0,no_classes):\n",
    "        FN[i]=total_counts[i]-TP[i]\n",
    "    #print(\"FN-\",FN)\n",
    "    \n",
    "    FP=[0]*no_classes\n",
    "    for i in range(0,no_classes):\n",
    "        for j in range(0,no_classes):\n",
    "            FP[j]+=conf_mat[i][j]\n",
    "        FP[i]-=TP[i]\n",
    "    #print(\"FP-\",FP)\n",
    "    \n",
    "    TN=[0]*no_classes\n",
    "    for i in range(0,no_classes):\n",
    "        for j in range(0,no_classes):\n",
    "            for k in range(0,no_classes):\n",
    "                if( i!=k and j!=k):\n",
    "                    TN[k]+=conf_mat[i][j]\n",
    "    #print(\"TN-\",TN)\n",
    "    \n",
    "    precision=[0]*no_classes\n",
    "    for i in range(0,no_classes):\n",
    "        precision[i]=TP[i]/(TP[i]+FP[i])\n",
    "    print(\"Precison-\",precision)\n",
    "    \n",
    "    recall=[0]*no_classes\n",
    "    for i in range(0,no_classes):\n",
    "        recall[i]=TP[i]/(TP[i]+FN[i])\n",
    "    print(\"Recall-\",recall)\n",
    "    \n",
    "    f1score=[0]*no_classes\n",
    "    for i in range(0,no_classes):\n",
    "        f1score[i]=2/((1/precision[i])+(1/recall[i]))\n",
    "    print(\"F1score-\",f1score)\n",
    "    \n",
    "    return"
   ]
  },
  {
   "cell_type": "code",
   "execution_count": 90,
   "metadata": {},
   "outputs": [],
   "source": [
    "def accuracy_eucli(train_df,valid_df,k,list_classes,dimensions,label):\n",
    "    total=len(valid_df)\n",
    "    no_classes=len(list_classes)\n",
    "    correct=0\n",
    "    for i in range(0,total):\n",
    "        inst=valid_df.iloc[i]\n",
    "        actual=inst[label]\n",
    "        #print(\"Actual-\",actual)\n",
    "        neighbours=find_neighbours_eucli(train_df,inst,dimensions)\n",
    "        predicted=predict(train_df,neighbours,k,list_classes,label)\n",
    "        #print(\"Predicted-\",predicted)\n",
    "        if(actual == predicted):\n",
    "            correct+=1\n",
    "    accuracy=correct/total\n",
    "    return accuracy"
   ]
  },
  {
   "cell_type": "code",
   "execution_count": 91,
   "metadata": {},
   "outputs": [],
   "source": [
    "def plot_eucli(max_k,train_df,valid_df,list_classes,dimensions,label):\n",
    "    x_labels=[]\n",
    "    y_labels=[]\n",
    "    for k in range(1,max_k,2):      #oddnumbers\n",
    "        x_labels.append(k)\n",
    "        y_labels.append(accuracy_eucli(train_df,valid_df,k,list_classes,dimensions,label))\n",
    "        \n",
    "    area=10*np.pi\n",
    "    plt.xlabel(\"k\")\n",
    "    plt.ylabel(\"Accuracy\")\n",
    "    plt.title(\"k v/s Accuracy KNN-Robot1 Dataset(Euclidean distance)\")\n",
    "    plt.scatter(x_labels, y_labels, s=area, c='blue', alpha=0.5)\n",
    "\n",
    "    plt.show()\n",
    "    return"
   ]
  },
  {
   "cell_type": "code",
   "execution_count": 92,
   "metadata": {},
   "outputs": [],
   "source": [
    "def confusion_matrix_manhttn(train_df,valid_df,k,list_classes,dimensions,label):\n",
    "    total=len(valid_df)\n",
    "    no_classes=len(list_classes)\n",
    "    correct=0\n",
    "    conf_mat = [[0 for x in range(no_classes)] for y in range(no_classes)] \n",
    "    TN=0\n",
    "    TP=0\n",
    "    FP=0\n",
    "    FN=0\n",
    "    for i in range(0,total):\n",
    "        inst=valid_df.iloc[i]\n",
    "        actual=inst[label]\n",
    "        #print(\"Actual-\",actual)\n",
    "        neighbours=find_neighbours_manhttn(train_df,inst,dimensions)\n",
    "        predicted=predict(train_df,neighbours,k,list_classes,label)\n",
    "        #print(\"Predicted-\",predicted)\n",
    "        if(actual == predicted):\n",
    "            correct+=1\n",
    "            \n",
    "        for i in range(0,no_classes):\n",
    "            for j in range(0,no_classes):\n",
    "                if( actual == list_classes[i] and predicted == list_classes[j]):\n",
    "                    conf_mat[i][j]=conf_mat[i][j]+1\n",
    "    \n",
    "    accuracy=correct/total\n",
    "    print(\"Accuracy - \",accuracy)\n",
    "    #print(correct,\" / \",total,\" - \",accuracy)\n",
    "    \n",
    "    #print(\"Confusion Matrix - \")\n",
    "    #print(conf_mat)\n",
    "    conf_arr=np.array(conf_mat)\n",
    "    #print(conf_arr)\n",
    "    \n",
    "    total_counts=[0]*no_classes\n",
    "    for i in range(0,no_classes):\n",
    "        row=conf_arr[i]\n",
    "        total_counts[i]=row.sum()\n",
    "    #print(total_counts)\n",
    "    \n",
    "    TP=[0]*no_classes\n",
    "    for i in range(0,no_classes):\n",
    "        for j in range(0,no_classes):\n",
    "            if(i == j):\n",
    "                TP[i]=conf_mat[i][j]\n",
    "    #print(\"TP-\",TP)\n",
    "    \n",
    "    FN=[0]*no_classes\n",
    "    for i in range(0,no_classes):\n",
    "        FN[i]=total_counts[i]-TP[i]\n",
    "    #print(\"FN-\",FN)\n",
    "    \n",
    "    FP=[0]*no_classes\n",
    "    for i in range(0,no_classes):\n",
    "        for j in range(0,no_classes):\n",
    "            FP[j]+=conf_mat[i][j]\n",
    "        FP[i]-=TP[i]\n",
    "    #print(\"FP-\",FP)\n",
    "    \n",
    "    TN=[0]*no_classes\n",
    "    for i in range(0,no_classes):\n",
    "        for j in range(0,no_classes):\n",
    "            for k in range(0,no_classes):\n",
    "                if( i!=k and j!=k):\n",
    "                    TN[k]+=conf_mat[i][j]\n",
    "    #print(\"TN-\",TN)\n",
    "    \n",
    "    precision=[0]*no_classes\n",
    "    for i in range(0,no_classes):\n",
    "        precision[i]=TP[i]/(TP[i]+FP[i])\n",
    "    print(\"Precison-\",precision)\n",
    "    \n",
    "    recall=[0]*no_classes\n",
    "    for i in range(0,no_classes):\n",
    "        recall[i]=TP[i]/(TP[i]+FN[i])\n",
    "    print(\"Recall-\",recall)\n",
    "    \n",
    "    f1score=[0]*no_classes\n",
    "    for i in range(0,no_classes):\n",
    "        f1score[i]=2/((1/precision[i])+(1/recall[i]))\n",
    "    print(\"F1score-\",f1score)\n",
    "    \n",
    "    return"
   ]
  },
  {
   "cell_type": "code",
   "execution_count": 93,
   "metadata": {},
   "outputs": [],
   "source": [
    "def accuracy_manhttn(train_df,valid_df,k,list_classes,dimensions,label):\n",
    "    total=len(valid_df)\n",
    "    no_classes=len(list_classes)\n",
    "    correct=0\n",
    "    for i in range(0,total):\n",
    "        inst=valid_df.iloc[i]\n",
    "        actual=inst[label]\n",
    "        #print(\"Actual-\",actual)\n",
    "        neighbours=find_neighbours_manhttn(train_df,inst,dimensions)\n",
    "        predicted=predict(train_df,neighbours,k,list_classes,label)\n",
    "        #print(\"Predicted-\",predicted)\n",
    "        if(actual == predicted):\n",
    "            correct+=1\n",
    "    accuracy=correct/total\n",
    "    return accuracy"
   ]
  },
  {
   "cell_type": "code",
   "execution_count": 94,
   "metadata": {},
   "outputs": [],
   "source": [
    "def plot_manhttn(max_k,train_df,valid_df,list_classes,dimensions,label):\n",
    "    x_labels=[]\n",
    "    y_labels=[]\n",
    "    for k in range(1,max_k,2):      #oddnumbers\n",
    "        x_labels.append(k)\n",
    "        y_labels.append(accuracy_manhttn(train_df,valid_df,k,list_classes,dimensions,label))\n",
    "        \n",
    "    area=10*np.pi\n",
    "    plt.xlabel(\"k\")\n",
    "    plt.ylabel(\"Accuracy\")\n",
    "    plt.title(\"k v/s Accuracy KNN-Robot1 Dataset(Manhattan distance)\")\n",
    "    plt.scatter(x_labels, y_labels, s=area, c='blue', alpha=0.5)\n",
    "\n",
    "    plt.show()\n",
    "    return"
   ]
  },
  {
   "cell_type": "code",
   "execution_count": 95,
   "metadata": {},
   "outputs": [],
   "source": [
    "def confusion_matrix_chebyshev(train_df,valid_df,k,list_classes,dimensions,label):\n",
    "    total=len(valid_df)\n",
    "    no_classes=len(list_classes)\n",
    "    correct=0\n",
    "    conf_mat = [[0 for x in range(no_classes)] for y in range(no_classes)] \n",
    "    TN=0\n",
    "    TP=0\n",
    "    FP=0\n",
    "    FN=0\n",
    "    for i in range(0,total):\n",
    "        inst=valid_df.iloc[i]\n",
    "        actual=inst[label]\n",
    "        #print(\"Actual-\",actual)\n",
    "        neighbours=find_neighbours_chebyshev(train_df,inst,dimensions)\n",
    "        predicted=predict(train_df,neighbours,k,list_classes,label)\n",
    "        #print(\"Predicted-\",predicted)\n",
    "        if(actual == predicted):\n",
    "            correct+=1\n",
    "            \n",
    "        for i in range(0,no_classes):\n",
    "            for j in range(0,no_classes):\n",
    "                if( actual == list_classes[i] and predicted == list_classes[j]):\n",
    "                    conf_mat[i][j]=conf_mat[i][j]+1\n",
    "    \n",
    "    accuracy=correct/total\n",
    "    print(\"Accuracy - \",accuracy)\n",
    "    #print(correct,\" / \",total,\" - \",accuracy)\n",
    "    \n",
    "    #print(\"Confusion Matrix - \")\n",
    "    #print(conf_mat)\n",
    "    conf_arr=np.array(conf_mat)\n",
    "    #print(conf_arr)\n",
    "    \n",
    "    total_counts=[0]*no_classes\n",
    "    for i in range(0,no_classes):\n",
    "        row=conf_arr[i]\n",
    "        total_counts[i]=row.sum()\n",
    "    #print(total_counts)\n",
    "    \n",
    "    TP=[0]*no_classes\n",
    "    for i in range(0,no_classes):\n",
    "        for j in range(0,no_classes):\n",
    "            if(i == j):\n",
    "                TP[i]=conf_mat[i][j]\n",
    "    #print(\"TP-\",TP)\n",
    "    \n",
    "    FN=[0]*no_classes\n",
    "    for i in range(0,no_classes):\n",
    "        FN[i]=total_counts[i]-TP[i]\n",
    "    #print(\"FN-\",FN)\n",
    "    \n",
    "    FP=[0]*no_classes\n",
    "    for i in range(0,no_classes):\n",
    "        for j in range(0,no_classes):\n",
    "            FP[j]+=conf_mat[i][j]\n",
    "        FP[i]-=TP[i]\n",
    "    #print(\"FP-\",FP)\n",
    "    \n",
    "    TN=[0]*no_classes\n",
    "    for i in range(0,no_classes):\n",
    "        for j in range(0,no_classes):\n",
    "            for k in range(0,no_classes):\n",
    "                if( i!=k and j!=k):\n",
    "                    TN[k]+=conf_mat[i][j]\n",
    "    #print(\"TN-\",TN)\n",
    "    \n",
    "    precision=[0]*no_classes\n",
    "    for i in range(0,no_classes):\n",
    "        precision[i]=TP[i]/(TP[i]+FP[i])\n",
    "    print(\"Precison-\",precision)\n",
    "    \n",
    "    recall=[0]*no_classes\n",
    "    for i in range(0,no_classes):\n",
    "        recall[i]=TP[i]/(TP[i]+FN[i])\n",
    "    print(\"Recall-\",recall)\n",
    "    \n",
    "    f1score=[0]*no_classes\n",
    "    for i in range(0,no_classes):\n",
    "        f1score[i]=2/((1/precision[i])+(1/recall[i]))\n",
    "    print(\"F1score-\",f1score)\n",
    "    \n",
    "    return"
   ]
  },
  {
   "cell_type": "code",
   "execution_count": 96,
   "metadata": {},
   "outputs": [],
   "source": [
    "def accuracy_chebyshev(train_df,valid_df,k,list_classes,dimensions,label):\n",
    "    total=len(valid_df)\n",
    "    no_classes=len(list_classes)\n",
    "    correct=0\n",
    "    for i in range(0,total):\n",
    "        inst=valid_df.iloc[i]\n",
    "        actual=inst[label]\n",
    "        #print(\"Actual-\",actual)\n",
    "        neighbours=find_neighbours_chebyshev(train_df,inst,dimensions)\n",
    "        predicted=predict(train_df,neighbours,k,list_classes,label)\n",
    "        #print(\"Predicted-\",predicted)\n",
    "        if(actual == predicted):\n",
    "            correct+=1\n",
    "    accuracy=correct/total\n",
    "    return accuracy"
   ]
  },
  {
   "cell_type": "code",
   "execution_count": 97,
   "metadata": {},
   "outputs": [],
   "source": [
    "def plot_chebyshev(max_k,train_df,valid_df,list_classes,dimensions,label):\n",
    "    x_labels=[]\n",
    "    y_labels=[]\n",
    "    for k in range(1,max_k,2):      #oddnumbers\n",
    "        x_labels.append(k)\n",
    "        y_labels.append(accuracy_chebyshev(train_df,valid_df,k,list_classes,dimensions,label))\n",
    "        \n",
    "    area=10*np.pi\n",
    "    plt.xlabel(\"k\")\n",
    "    plt.ylabel(\"Accuracy\")\n",
    "    plt.title(\"k v/s Accuracy KNN-Robot1 Dataset(Chebyshev distance)\")\n",
    "\n",
    "    plt.scatter(x_labels, y_labels, s=area, c='blue', alpha=0.5)\n",
    "\n",
    "    plt.show()\n",
    "    return"
   ]
  },
  {
   "cell_type": "markdown",
   "metadata": {},
   "source": [
    "# Helper Functions "
   ]
  },
  {
   "cell_type": "code",
   "execution_count": 98,
   "metadata": {},
   "outputs": [],
   "source": [
    "def max_count(counts):\n",
    "    max_index=None\n",
    "    max_val=0\n",
    "    for i in range(0,len(counts)):\n",
    "        if( counts[i] >= max_val):\n",
    "            max_val=counts[i]\n",
    "            max_index=i\n",
    "    return max_index"
   ]
  },
  {
   "cell_type": "markdown",
   "metadata": {},
   "source": [
    "# # Main"
   ]
  },
  {
   "cell_type": "code",
   "execution_count": 99,
   "metadata": {},
   "outputs": [],
   "source": [
    "def main():\n",
    "    k=7\n",
    "    file=\"RobotDataset/Robot1\"\n",
    "    dimensions=8   #To calulate dist  #7 but- range() until dist\n",
    "    list_classes=[1,0]\n",
    "    \n",
    "    df=pd.read_csv(file, header=None, delimiter=\" \")\n",
    "    df=df.loc[:, df.columns != 0]          #Ignoring first (0th) column-Nan\n",
    "   \n",
    "    train_df,valid_df=train_split(df,20)\n",
    "    \n",
    "    label=1\n",
    "    #Ignoring the ID\n",
    "    train_df=train_df.loc[:, df.columns != 8]\n",
    "    valid_df=valid_df.loc[:, df.columns != 8]\n",
    "    \n",
    "    len_train=len(train_df)\n",
    "    max_k=round(math.sqrt(len_train))\n",
    "\n",
    "    print(\"Euclidean Distance with k-\",k)\n",
    "    print(\"------------------------------\")\n",
    "    confusion_matrix_eucli(train_df,valid_df,k,list_classes,dimensions,label)\n",
    "    \n",
    "    print()\n",
    "    print(\"Plot of Accuracy with change in k\")\n",
    "    plot_eucli(max_k,train_df,valid_df,list_classes,dimensions,label)\n",
    "    \n",
    "    print(\"Manhattan Distance with k-\",k)\n",
    "    print(\"------------------------------\")\n",
    "    confusion_matrix_manhttn(train_df,valid_df,k,list_classes,dimensions,label)\n",
    "    \n",
    "    print()\n",
    "    print(\"Plot of Accuracy with change in k\")\n",
    "    plot_manhttn(max_k,train_df,valid_df,list_classes,dimensions,label)\n",
    "    \n",
    "    print(\"Chebyshev Distance with k-\",k)\n",
    "    print(\"------------------------------\")\n",
    "    confusion_matrix_chebyshev(train_df,valid_df,k,list_classes,dimensions,label)\n",
    "    \n",
    "    print()\n",
    "    print(\"Plot of Accuracy with change in k\")\n",
    "    plot_chebyshev(max_k,train_df,valid_df,list_classes,dimensions,label)\n",
    "   \n",
    "    return"
   ]
  },
  {
   "cell_type": "code",
   "execution_count": 100,
   "metadata": {},
   "outputs": [
    {
     "name": "stdout",
     "output_type": "stream",
     "text": [
      "Euclidean Distance with k- 7\n",
      "------------------------------\n",
      "Accuracy -  0.8\n",
      "Precison- [0.75, 0.8461538461538461]\n",
      "Recall- [0.8181818181818182, 0.7857142857142857]\n",
      "F1score- [0.782608695652174, 0.8148148148148148]\n",
      "\n",
      "Plot of Accuracy with change in k\n"
     ]
    },
    {
     "data": {
      "image/png": "[encoded data removed]",
      "text/plain": [
       "<Figure size 432x288 with 1 Axes>"
      ]
     },
     "metadata": {
      "needs_background": "light"
     },
     "output_type": "display_data"
    },
    {
     "name": "stdout",
     "output_type": "stream",
     "text": [
      "Manhattan Distance with k- 7\n",
      "------------------------------\n",
      "Accuracy -  0.76\n",
      "Precison- [0.7777777777777778, 0.75]\n",
      "Recall- [0.6363636363636364, 0.8571428571428571]\n",
      "F1score- [0.7000000000000001, 0.8]\n",
      "\n",
      "Plot of Accuracy with change in k\n"
     ]
    },
    {
     "data": {
      "image/png": "[encoded data removed]",
      "text/plain": [
       "<Figure size 432x288 with 1 Axes>"
      ]
     },
     "metadata": {
      "needs_background": "light"
     },
     "output_type": "display_data"
    },
    {
     "name": "stdout",
     "output_type": "stream",
     "text": [
      "Chebyshev Distance with k- 7\n",
      "------------------------------\n",
      "Accuracy -  0.64\n",
      "Precison- [0.5625, 0.7777777777777778]\n",
      "Recall- [0.8181818181818182, 0.5]\n",
      "F1score- [0.6666666666666666, 0.6086956521739131]\n",
      "\n",
      "Plot of Accuracy with change in k\n"
     ]
    },
    {
     "data": {
      "image/png": "[encoded data removed]",
      "text/plain": [
       "<Figure size 432x288 with 1 Axes>"
      ]
     },
     "metadata": {
      "needs_background": "light"
     },
     "output_type": "display_data"
    }
   ],
   "source": [
    "if __name__ == \"__main__\":\n",
    "    main()"
   ]
  }
 ],
 "metadata": {
  "kernelspec": {
   "display_name": "Python 3",
   "language": "python",
   "name": "python3"
  },
  "language_info": {
   "codemirror_mode": {
    "name": "ipython",
    "version": 3
   },
   "file_extension": ".py",
   "mimetype": "text/x-python",
   "name": "python",
   "nbconvert_exporter": "python",
   "pygments_lexer": "ipython3",
   "version": "3.7.5"
  }
 },
 "nbformat": 4,
 "nbformat_minor": 2
}
