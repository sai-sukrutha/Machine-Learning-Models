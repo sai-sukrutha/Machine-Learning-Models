{
 "cells": [
  {
   "cell_type": "markdown",
   "metadata": {},
   "source": [
    "# Import Statements"
   ]
  },
  {
   "cell_type": "code",
   "execution_count": 14,
   "metadata": {},
   "outputs": [],
   "source": [
    "import pandas as pd\n",
    "import numpy as np\n",
    "import random\n",
    "import math\n",
    "import matplotlib.pyplot as plt"
   ]
  },
  {
   "cell_type": "markdown",
   "metadata": {},
   "source": [
    "# Train and Validation Split"
   ]
  },
  {
   "cell_type": "code",
   "execution_count": 15,
   "metadata": {},
   "outputs": [],
   "source": [
    "#Pass the percentage of data you need for test like 20 % \n",
    "def train_split(df,test_per):\n",
    "    indices=df.index.tolist()\n",
    "    test_size=round(len(df)*(test_per/100))\n",
    "    random.seed(0)\n",
    "    test_indices=random.sample(population=indices,k=test_size)\n",
    "    valid_df=df.loc[test_indices]\n",
    "    train_df=df.drop(test_indices)\n",
    "    return train_df,valid_df"
   ]
  },
  {
   "cell_type": "markdown",
   "metadata": {},
   "source": [
    "# Cost function"
   ]
  },
  {
   "cell_type": "code",
   "execution_count": 16,
   "metadata": {},
   "outputs": [],
   "source": [
    "def cost_function(X, Y, B):\n",
    "    #Cost function J=(1/2m)*(sum(pow(hypothesis(xi) - (yi)),2)) #hypothesis=X.T*B as X=data.T\n",
    "    m = len(Y)\n",
    "    J=0\n",
    "    for i in range(0,m):\n",
    "        x=X[i]\n",
    "        y=Y[i]\n",
    "        hypothesis=x.dot(B)\n",
    "        J+=(pow(hypothesis-y,2))\n",
    "    J/=(2*m)\n",
    "    return J"
   ]
  },
  {
   "cell_type": "markdown",
   "metadata": {},
   "source": [
    "# Gradient descent"
   ]
  },
  {
   "cell_type": "code",
   "execution_count": 17,
   "metadata": {},
   "outputs": [],
   "source": [
    "def gradient_descent(X,Y,B,alpha,prev_cost):\n",
    "    #formula: Bj=Bj-alpha*((hypothesis(x)-y)*xj)\n",
    "    m=len(Y)\n",
    "    for j in range(0,len(B)):\n",
    "        sum=0\n",
    "        gradient=1\n",
    "        for i in range(0,m):\n",
    "            x=X[i]\n",
    "            y=Y[i]\n",
    "            hypothesis=x.dot(B)\n",
    "            sum+=(hypothesis-y)*x[j]\n",
    "        gradient=sum/m\n",
    "        #update B\n",
    "        B[j]-=alpha*gradient\n",
    "    cost=cost_function(X,Y,B)\n",
    "#     print(prev_cost,cost)\n",
    "    if(abs(prev_cost - cost) <  0.000001):\n",
    "        return B,cost\n",
    "    else:\n",
    "        B,cost=gradient_descent(X,Y,B,alpha,cost)\n",
    "    return B,cost"
   ]
  },
  {
   "cell_type": "markdown",
   "metadata": {},
   "source": [
    "# Prediction"
   ]
  },
  {
   "cell_type": "code",
   "execution_count": 18,
   "metadata": {},
   "outputs": [],
   "source": [
    "def predict(x,B):\n",
    "    ans=x.dot(B)\n",
    "    return ans"
   ]
  },
  {
   "cell_type": "code",
   "execution_count": 19,
   "metadata": {},
   "outputs": [],
   "source": [
    "def cal_error(X,Y,B,title):\n",
    "    actual_list=[]\n",
    "    predicted_list=[]\n",
    "    m=len(Y)\n",
    "    MSE=0\n",
    "    MAE=0\n",
    "    MPE=0\n",
    "    for i in range(0,len(X)):\n",
    "        actual=Y[i]\n",
    "        predicted=predict(X[i],B)\n",
    "        actual_list.append(actual)\n",
    "        predicted_list.append(predicted)\n",
    "        MSE+=pow((actual-predicted),2)\n",
    "        MAE+=abs(actual-predicted)\n",
    "        MPE+=MAE/actual*1    \n",
    "    MSE/=m\n",
    "    MAE/=m\n",
    "    MPE/=m\n",
    "    plot_linearreg(actual_list,predicted_list,title)\n",
    "    return MSE,MAE,MPE,actual_list,predicted_list"
   ]
  },
  {
   "cell_type": "code",
   "execution_count": 20,
   "metadata": {},
   "outputs": [],
   "source": [
    "def plot_linearreg(actual_list,predicted_list,title):\n",
    "    x_labels=[]\n",
    "    for i in range(len(actual_list)):      #oddnumbers\n",
    "        x_labels.append(i)\n",
    "        \n",
    "    area=np.pi\n",
    "    plt.xlabel(\"Students\")\n",
    "    plt.ylabel(\"Chance of Admit\")\n",
    "    plt.title(title)\n",
    "\n",
    "    plt.scatter(x_labels, predicted_list, s=area, c='blue', alpha=0.5)\n",
    "    plt.scatter(x_labels, actual_list, s=area, c='red', alpha=0.5)\n",
    "\n",
    "    plt.show()\n",
    "    return"
   ]
  },
  {
   "cell_type": "markdown",
   "metadata": {},
   "source": [
    "# Residual plots"
   ]
  },
  {
   "cell_type": "markdown",
   "metadata": {},
   "source": [
    "#Question 3:\n",
    "Analyse and report the behaviour of the coefficients\n",
    "\n",
    "In One variable Linear Regression,we have 2 coefficients b0,b1\n",
    "In this case b0 is the y-intercept and b1 is the slope of the line that determines the linear regression\n",
    "\n",
    "In Multi variable Linear Regression,if we have n features we will have n+1 coefficients (b0,b1,b2,...,bn)\n",
    "\n",
    "The value of coefficients means the weightage the feature has on the value of predictions.\n",
    "The sign of coefficient tells whether the value of prediction is increased(+) or decreased(-) by the feature.\n",
    "\n",
    "The residual plots are drawn below for features GRE Score , TOEFL Score , CGPA"
   ]
  },
  {
   "cell_type": "code",
   "execution_count": 21,
   "metadata": {},
   "outputs": [],
   "source": [
    "def residual_plot(header,train_df,actual_list,predicted_list,B):\n",
    "    for i in (1,2,6):  #for features-GRE Score , TOEFL Score , CGPA\n",
    "        print(header[i])\n",
    "        print(\"Value of coefficient-\",B[i])\n",
    "        x_labels=(train_df[header[i]].values)\n",
    "        y_labels=[]\n",
    "        for j in range(0,len(x_labels)):\n",
    "            y_labels.append(actual_list[j]-predicted_list[j])\n",
    "        area=np.pi\n",
    "        plt.xlabel(\"Fitted Values\")\n",
    "        plt.ylabel(\"Residuals\")\n",
    "        title=(\"Residual plot-%s\"%header[i])\n",
    "        plt.title(title)\n",
    "        plt.scatter(x_labels, y_labels, s=area, c='blue', alpha=0.5)\n",
    "        plt.show()\n",
    "    return\n",
    "        "
   ]
  },
  {
   "cell_type": "markdown",
   "metadata": {},
   "source": [
    "# Helper functions"
   ]
  },
  {
   "cell_type": "code",
   "execution_count": 22,
   "metadata": {},
   "outputs": [],
   "source": [
    "#Creating X(data.T),Y arrays from df\n",
    "def to_arrays(df,label):\n",
    "    no_rows,no_cols=df.shape\n",
    "    header=list(df.columns)\n",
    "    data_array=np.ones((no_cols-1,no_rows))\n",
    "    X0=np.ones(no_rows)                      #X0=1\n",
    "    for i in range(0,no_cols-1):             #Removing first col-serial no , last col-label\n",
    "        if(i == 0):\n",
    "            data_array[i]=X0\n",
    "        else:\n",
    "            x=df[header[i]].values\n",
    "            data_array[i]=x\n",
    "            #data_array[i]=mean_normalize(x)\n",
    "    X=data_array.T        #Doing Transpose\n",
    "\n",
    "    #Y (output) array\n",
    "    Y=np.array(df[label].values)\n",
    "    \n",
    "    return X,Y"
   ]
  },
  {
   "cell_type": "code",
   "execution_count": 23,
   "metadata": {},
   "outputs": [],
   "source": [
    "def mean_normalize(x):\n",
    "    x_new=np.ones(len(x))\n",
    "    mean=np.mean(x)\n",
    "    max=np.amax(x)\n",
    "    for i in range(0,len(x)):\n",
    "        x_new[i]=(x[i]-mean)/(max)\n",
    "    return x_new"
   ]
  },
  {
   "cell_type": "code",
   "execution_count": 24,
   "metadata": {},
   "outputs": [],
   "source": [
    "from sklearn.linear_model import LinearRegression\n",
    "from sklearn.metrics import mean_squared_error\n",
    "from sklearn.metrics import mean_absolute_error\n",
    "\n",
    "def scikit_linearregression(train_X,train_Y,valid_X,valid_Y):\n",
    "\n",
    "    # Model Intialization\n",
    "    reg = LinearRegression()\n",
    "    # Data Fitting\n",
    "    reg = reg.fit(train_X,train_Y)\n",
    "    # Y Prediction\n",
    "    Y_pred = reg.predict(valid_X)\n",
    "    #print(Y_pred)\n",
    "\n",
    "    # Model Evaluation\n",
    "    mse = mean_squared_error(valid_Y, Y_pred)\n",
    "    print(\"Mean Square Error -\",mse)\n",
    "    mae = mean_absolute_error(valid_Y, Y_pred)\n",
    "    print(\"Mean Absolute Error -\",mae)\n"
   ]
  },
  {
   "cell_type": "markdown",
   "metadata": {},
   "source": [
    "# # Main"
   ]
  },
  {
   "cell_type": "code",
   "execution_count": 25,
   "metadata": {},
   "outputs": [],
   "source": [
    "def main():\n",
    "    k=3\n",
    "    file=\"AdmissionDataset/data.csv\"\n",
    "    label='Chance of Admit '\n",
    "    no_coefficients=8  #[B0,B1,B2,...,B7] also 7 columns but X0=1\n",
    "    \n",
    "    df=pd.read_csv(file)\n",
    "    header=list(df.columns)\n",
    "   \n",
    "    train_df,valid_df=train_split(df,20)\n",
    "    \n",
    "    #Training\n",
    "    train_X,train_Y=to_arrays(train_df,label)\n",
    "    \n",
    "    #B(beta) array of coefficients\n",
    "    #Initialized to zero\n",
    "    B = np.zeros(no_coefficients)\n",
    "\n",
    "    alpha = 0.000001\n",
    "        \n",
    "    init_J=cost_function(train_X,train_Y,B)\n",
    "    #print(\"Initial_cost- \",init_J)\n",
    "    \n",
    "    B,final_J=gradient_descent(train_X,train_Y,B,alpha,init_J)\n",
    "    #print(\"Final_cost- \",final_J)\n",
    "    #print(B)\n",
    "    \n",
    "    #Linear Regression Plot\n",
    "    print(\"------Training--------\")\n",
    "    MSE,MAE,MPE,actual_list,predicted_list=cal_error(train_X,train_Y,B,\"Linear Regression-Training\")\n",
    "    print(\"Mean Square Error-\",MSE)\n",
    "    print(\"Mean Absolute Error-\",MAE)\n",
    "    print(\"Mean Absolute Percentage Error-\",MPE)\n",
    "    \n",
    "    #Question-Part3\n",
    "    print(\"-----Residual Plots-------\\n\")\n",
    "    residual_plot(header,train_df,actual_list,predicted_list,B)\n",
    "    \n",
    "    #Prediction\n",
    "    valid_X,valid_Y=to_arrays(valid_df,label)\n",
    "    print(\"\\n\\n-------Prediction------\")\n",
    "    MSE,MAE,MPE,_,_=cal_error(valid_X,valid_Y,B,\"Linear Regression-Validation\")\n",
    "    print(\"Mean Square Error-\",MSE)\n",
    "    print(\"Mean Absolute Error-\",MAE)\n",
    "    print(\"Mean Absolute Percentage Error-\",MPE)\n",
    "    \n",
    "    print(\"Using Scikit\")\n",
    "    scikit_linearregression(train_X,train_Y,valid_X,valid_Y)\n",
    "    \n",
    "    return"
   ]
  },
  {
   "cell_type": "code",
   "execution_count": 26,
   "metadata": {},
   "outputs": [
    {
     "name": "stdout",
     "output_type": "stream",
     "text": [
      "------Training--------\n"
     ]
    },
    {
     "data": {
      "image/png": "[encoded data removed]",
      "text/plain": [
       "<Figure size 432x288 with 1 Axes>"
      ]
     },
     "metadata": {
      "needs_background": "light"
     },
     "output_type": "display_data"
    },
    {
     "name": "stdout",
     "output_type": "stream",
     "text": [
      "Mean Square Error- 0.014521103735361394\n",
      "Mean Absolute Error- 0.09584442137741643\n",
      "Mean Absolute Percentage Error- 25.253716686602967\n",
      "-----Residual Plots-------\n",
      "\n",
      "GRE Score\n",
      "Value of coefficient- 0.0020569618220524243\n"
     ]
    },
    {
     "data": {
      "image/png": "[encoded data removed]",
      "text/plain": [
       "<Figure size 432x288 with 1 Axes>"
      ]
     },
     "metadata": {
      "needs_background": "light"
     },
     "output_type": "display_data"
    },
    {
     "name": "stdout",
     "output_type": "stream",
     "text": [
      "TOEFL Score\n",
      "Value of coefficient- 0.000634646652603971\n"
     ]
    },
    {
     "data": {
      "image/png": "[encoded data removed]",
      "text/plain": [
       "<Figure size 432x288 with 1 Axes>"
      ]
     },
     "metadata": {
      "needs_background": "light"
     },
     "output_type": "display_data"
    },
    {
     "name": "stdout",
     "output_type": "stream",
     "text": [
      "CGPA\n",
      "Value of coefficient- 5.115380468255175e-05\n"
     ]
    },
    {
     "data": {
      "image/png": "[encoded data removed]",
      "text/plain": [
       "<Figure size 432x288 with 1 Axes>"
      ]
     },
     "metadata": {
      "needs_background": "light"
     },
     "output_type": "display_data"
    },
    {
     "name": "stdout",
     "output_type": "stream",
     "text": [
      "\n",
      "\n",
      "-------Prediction------\n"
     ]
    },
    {
     "data": {
      "image/png": "[encoded data removed]",
      "text/plain": [
       "<Figure size 432x288 with 1 Axes>"
      ]
     },
     "metadata": {
      "needs_background": "light"
     },
     "output_type": "display_data"
    },
    {
     "name": "stdout",
     "output_type": "stream",
     "text": [
      "Mean Square Error- 0.014159234105343301\n",
      "Mean Absolute Error- 0.09677817068322561\n",
      "Mean Absolute Percentage Error- 6.235827388303856\n",
      "Using Scikit\n",
      "Mean Square Error - 0.0035076322300100753\n",
      "Mean Absolute Error - 0.04454092036310328\n"
     ]
    }
   ],
   "source": [
    "if __name__ == \"__main__\":\n",
    "    main()"
   ]
  }
 ],
 "metadata": {
  "kernelspec": {
   "display_name": "Python 3",
   "language": "python",
   "name": "python3"
  },
  "language_info": {
   "codemirror_mode": {
    "name": "ipython",
    "version": 3
   },
   "file_extension": ".py",
   "mimetype": "text/x-python",
   "name": "python",
   "nbconvert_exporter": "python",
   "pygments_lexer": "ipython3",
   "version": "3.7.5"
  }
 },
 "nbformat": 4,
 "nbformat_minor": 2
}
